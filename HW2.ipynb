{
 "cells": [
  {
   "cell_type": "markdown",
   "id": "a48b00fe",
   "metadata": {},
   "source": [
    "## INSTRUCTIONS \n",
    "\n",
    "Every learner should submit his/her own homework solutions. However, you are allowed to discuss the homework with each other– but everyone must submit his/her own solution; you may not copy someone else’s solution. \n",
    "\n",
    "The homework consists of two parts:\n",
    "1. Data from our lives\t\n",
    "2. Data manipulation/Exploratory Data Analysis\n",
    "3. Multipe regression Analysis\n",
    "\n",
    "Follow the prompts in the attached jupyter notebook. Download the data and place it in your working directory, or modify the path to upload it to your notebook. Add markdown cells to your analysis to include your solutions, comments, answers. **Add as many cells as you need**, for easy readability comment when possible.\n",
    "Hopefully this homework will help you develop skills, make you understand the flow of an EDA, get you ready for individual work.\n",
    "\n",
    "Submission: Send in both a ipynb and a pdf file of your work. \n",
    "\n",
    "Good luck!\n"
   ]
  },
  {
   "cell_type": "markdown",
   "id": "c425df13",
   "metadata": {},
   "source": [
    "## 1. Data from our Lives"
   ]
  },
  {
   "cell_type": "markdown",
   "id": "bb80903a",
   "metadata": {},
   "source": [
    "### Describe a situation or problem from your job, everyday life, current events, etc., for which a regression model would be appropriate. List some (up to 5) predictors that you might use."
   ]
  },
  {
   "cell_type": "markdown",
   "id": "7cecdb5a",
   "metadata": {},
   "source": [
    "**your answer should go here**\n",
    "\n"
   ]
  },
  {
   "cell_type": "markdown",
   "id": "defdca5e",
   "metadata": {},
   "source": [
    "Employee's salary can depend on multiple factors, and a regression model can help understand the relationship between these predictors and an employee's salary.\n",
    "\n",
    "This are the five predictors that are useful in a regression model to predict employee's salary\n",
    "\n",
    "Predictor 1: Years of experience.\n",
    "It is one of the important factor for predicting the employee salary, How many years of real-time experience that the person have will leads to high salary, as experience person will have more real-time experience and skill on the work.\n",
    "\n",
    "Predictor 2: level of Education. \n",
    "High level of  education degrees may lead to higher salaries like the ph.d student or  can get high salary than a undergraduation student, By considering both the level of education and the field of study.\n",
    "\n",
    "Predictor 3: Location.\n",
    "The cost of living and taxes varies by different locations. Salaries in areas like california will tend to increase higher for increased living expenses(cost of living) and high taxes. so, person in california will get high salary than person in Texas, so the location is important predictor in the employee salary.\n",
    "\n",
    "Predictor 4: Job role or position.\n",
    "Different roles will have  different salary within the same organization.For example, Data scienist will earns more than a data analyst.\n",
    "\n",
    "Predictor 5: Industry or sector of employment.\n",
    "The industry or sector in which the employee works can have impact on salary. For example, salaries in the technology sector might be higher than those in finance. "
   ]
  },
  {
   "cell_type": "markdown",
   "id": "88646bc4",
   "metadata": {},
   "source": [
    "## The data"
   ]
  },
  {
   "cell_type": "markdown",
   "id": "26855a3f",
   "metadata": {},
   "source": [
    "**Title: 1985 Auto Imports Database**\n",
    "\n",
    "Relevant Information:\n",
    "   -- Description\n",
    "      This data set consists of three types of entities: (a) the\n",
    "      specification of an auto in terms of various characteristics, (b)\n",
    "      its assigned insurance risk rating, (c) its normalized losses in use\n",
    "      as compared to other cars.  The second rating corresponds to the\n",
    "      degree to which the auto is more risky than its price indicates.\n",
    "      Cars are initially assigned a risk factor symbol associated with its\n",
    "      price.   Then, if it is more risky (or less), this symbol is\n",
    "      adjusted by moving it up (or down) the scale.  Actuarians call this\n",
    "      process \"symboling\".  A value of +3 indicates that the auto is\n",
    "      risky, -3 that it is probably pretty safe.\n",
    "\n",
    "      The third factor is the relative average loss payment per insured\n",
    "      vehicle year.  This value is normalized for all autos within a\n",
    "      particular size classification (two-door small, station wagons,\n",
    "      sports/speciality, etc...), and represents the average loss per car\n",
    "      per year.\n",
    "\n",
    "   -- Note: Several of the attributes in the database could be used as a\n",
    "            \"class\" attribute.\n",
    "\n",
    "5. Number of Instances: 205\n",
    "\n",
    "6. Number of Attributes: 26 total\n",
    "   -- 15 continuous\n",
    "   -- 1 integer\n",
    "   -- 10 nominal\n",
    "\n",
    "7. Attribute Information:     \n",
    "     Attribute:                Attribute Range:\n",
    "     ------------------        -----------------------------------------------\n",
    "  1. symboling:                -3, -2, -1, 0, 1, 2, 3.\n",
    "  2. normalized-losses:        continuous from 65 to 256.\n",
    "  3. make:                     alfa-romero, audi, bmw, chevrolet, dodge, honda,isuzu, jaguar, mazda, mercedes-benz, mercury, mitsubishi, nissan, peugot, plymouth, porsche, renault, saab, subaru, toyota,volkswagen, volvo\n",
    "  4. fuel-type:                diesel, gas.\n",
    "  5. aspiration:               std, turbo.\n",
    "  6. num-of-doors:             four, two.\n",
    "  7. body-style:               hardtop, wagon, sedan, hatchback, convertible.\n",
    "  8. drive-wheels:             4wd, fwd, rwd.\n",
    "  9. engine-location:          front, rear.\n",
    " 10. wheel-base:               continuous from 86.6 120.9.\n",
    " 11. length:                   continuous from 141.1 to 208.1.\n",
    " 12. width:                    continuous from 60.3 to 72.3.\n",
    " 13. height:                   continuous from 47.8 to 59.8.\n",
    " 14. curb-weight:              continuous from 1488 to 4066.\n",
    " 15. engine-type:              dohc, dohcv, l, ohc, ohcf, ohcv, rotor.\n",
    " 16. num-of-cylinders:         eight, five, four, six, three, twelve, two.\n",
    " 17. engine-size:              continuous from 61 to 326.\n",
    " 18. fuel-system:              1bbl, 2bbl, 4bbl, idi, mfi, mpfi, spdi, spfi.\n",
    " 19. bore:                     continuous from 2.54 to 3.94.\n",
    " 20. stroke:                   continuous from 2.07 to 4.17.\n",
    " 21. compression-ratio:        continuous from 7 to 23.\n",
    " 22. horsepower:               continuous from 48 to 288.\n",
    " 23. peak-rpm:                 continuous from 4150 to 6600.\n",
    " 24. city-mpg:                 continuous from 13 to 49.\n",
    " 25. highway-mpg:              continuous from 16 to 54.\n",
    " 26. price:                    continuous from 5118 to 45400.\n",
    "\n",
    "8. Missing Attribute Values: (denoted by \"?\")"
   ]
  },
  {
   "cell_type": "code",
   "execution_count": 17,
   "id": "cd0f90ba",
   "metadata": {},
   "outputs": [],
   "source": [
    "from scipy import stats\n",
    "from sklearn.linear_model import LinearRegression\n",
    "from statsmodels.compat import lzip\n",
    "from statsmodels.formula.api import ols\n",
    "from statsmodels.stats.anova import anova_lm\n",
    "from statsmodels.stats.outliers_influence import variance_inflation_factor\n",
    "import matplotlib\n",
    "import matplotlib.pyplot as plt\n",
    "import numpy as np\n",
    "import pandas as pd\n",
    "import seaborn as sns\n",
    "import statsmodels.api as sm\n",
    "\n",
    "%matplotlib inline"
   ]
  },
  {
   "cell_type": "code",
   "execution_count": 18,
   "id": "6b9fa984",
   "metadata": {},
   "outputs": [
    {
     "data": {
      "text/html": [
       "<div>\n",
       "<style scoped>\n",
       "    .dataframe tbody tr th:only-of-type {\n",
       "        vertical-align: middle;\n",
       "    }\n",
       "\n",
       "    .dataframe tbody tr th {\n",
       "        vertical-align: top;\n",
       "    }\n",
       "\n",
       "    .dataframe thead th {\n",
       "        text-align: right;\n",
       "    }\n",
       "</style>\n",
       "<table border=\"1\" class=\"dataframe\">\n",
       "  <thead>\n",
       "    <tr style=\"text-align: right;\">\n",
       "      <th></th>\n",
       "      <th>fuel_type</th>\n",
       "      <th>body</th>\n",
       "      <th>wheel_base</th>\n",
       "      <th>length</th>\n",
       "      <th>width</th>\n",
       "      <th>heights</th>\n",
       "      <th>curb_weight</th>\n",
       "      <th>engine_type</th>\n",
       "      <th>cylinders</th>\n",
       "      <th>engine_size</th>\n",
       "      <th>bore</th>\n",
       "      <th>stroke</th>\n",
       "      <th>comprassion</th>\n",
       "      <th>horse_power</th>\n",
       "      <th>peak_rpm</th>\n",
       "      <th>city_mpg</th>\n",
       "      <th>highway_mpg</th>\n",
       "      <th>price</th>\n",
       "    </tr>\n",
       "  </thead>\n",
       "  <tbody>\n",
       "    <tr>\n",
       "      <th>0</th>\n",
       "      <td>gas</td>\n",
       "      <td>convertible</td>\n",
       "      <td>88.6</td>\n",
       "      <td>168.8</td>\n",
       "      <td>64.1</td>\n",
       "      <td>48.8</td>\n",
       "      <td>2548</td>\n",
       "      <td>dohc</td>\n",
       "      <td>four</td>\n",
       "      <td>130</td>\n",
       "      <td>3.47</td>\n",
       "      <td>2.68</td>\n",
       "      <td>9.0</td>\n",
       "      <td>111</td>\n",
       "      <td>5000</td>\n",
       "      <td>21</td>\n",
       "      <td>27</td>\n",
       "      <td>13495</td>\n",
       "    </tr>\n",
       "    <tr>\n",
       "      <th>1</th>\n",
       "      <td>gas</td>\n",
       "      <td>convertible</td>\n",
       "      <td>88.6</td>\n",
       "      <td>168.8</td>\n",
       "      <td>64.1</td>\n",
       "      <td>48.8</td>\n",
       "      <td>2548</td>\n",
       "      <td>dohc</td>\n",
       "      <td>four</td>\n",
       "      <td>130</td>\n",
       "      <td>3.47</td>\n",
       "      <td>2.68</td>\n",
       "      <td>9.0</td>\n",
       "      <td>111</td>\n",
       "      <td>5000</td>\n",
       "      <td>21</td>\n",
       "      <td>27</td>\n",
       "      <td>16500</td>\n",
       "    </tr>\n",
       "    <tr>\n",
       "      <th>2</th>\n",
       "      <td>gas</td>\n",
       "      <td>hatchback</td>\n",
       "      <td>94.5</td>\n",
       "      <td>171.2</td>\n",
       "      <td>65.5</td>\n",
       "      <td>52.4</td>\n",
       "      <td>2823</td>\n",
       "      <td>ohcv</td>\n",
       "      <td>six</td>\n",
       "      <td>152</td>\n",
       "      <td>2.68</td>\n",
       "      <td>3.47</td>\n",
       "      <td>9.0</td>\n",
       "      <td>154</td>\n",
       "      <td>5000</td>\n",
       "      <td>19</td>\n",
       "      <td>26</td>\n",
       "      <td>16500</td>\n",
       "    </tr>\n",
       "    <tr>\n",
       "      <th>3</th>\n",
       "      <td>gas</td>\n",
       "      <td>sedan</td>\n",
       "      <td>99.8</td>\n",
       "      <td>176.6</td>\n",
       "      <td>66.2</td>\n",
       "      <td>54.3</td>\n",
       "      <td>2337</td>\n",
       "      <td>ohc</td>\n",
       "      <td>four</td>\n",
       "      <td>109</td>\n",
       "      <td>3.19</td>\n",
       "      <td>3.4</td>\n",
       "      <td>10.0</td>\n",
       "      <td>102</td>\n",
       "      <td>5500</td>\n",
       "      <td>24</td>\n",
       "      <td>30</td>\n",
       "      <td>13950</td>\n",
       "    </tr>\n",
       "    <tr>\n",
       "      <th>4</th>\n",
       "      <td>gas</td>\n",
       "      <td>sedan</td>\n",
       "      <td>99.4</td>\n",
       "      <td>176.6</td>\n",
       "      <td>66.4</td>\n",
       "      <td>54.3</td>\n",
       "      <td>2824</td>\n",
       "      <td>ohc</td>\n",
       "      <td>five</td>\n",
       "      <td>136</td>\n",
       "      <td>3.19</td>\n",
       "      <td>3.4</td>\n",
       "      <td>8.0</td>\n",
       "      <td>115</td>\n",
       "      <td>5500</td>\n",
       "      <td>18</td>\n",
       "      <td>22</td>\n",
       "      <td>17450</td>\n",
       "    </tr>\n",
       "  </tbody>\n",
       "</table>\n",
       "</div>"
      ],
      "text/plain": [
       "  fuel_type         body  wheel_base  length  width  heights  curb_weight  \\\n",
       "0       gas  convertible        88.6   168.8   64.1     48.8         2548   \n",
       "1       gas  convertible        88.6   168.8   64.1     48.8         2548   \n",
       "2       gas    hatchback        94.5   171.2   65.5     52.4         2823   \n",
       "3       gas        sedan        99.8   176.6   66.2     54.3         2337   \n",
       "4       gas        sedan        99.4   176.6   66.4     54.3         2824   \n",
       "\n",
       "  engine_type cylinders  engine_size  bore stroke  comprassion horse_power  \\\n",
       "0        dohc      four          130  3.47   2.68          9.0         111   \n",
       "1        dohc      four          130  3.47   2.68          9.0         111   \n",
       "2        ohcv       six          152  2.68   3.47          9.0         154   \n",
       "3         ohc      four          109  3.19    3.4         10.0         102   \n",
       "4         ohc      five          136  3.19    3.4          8.0         115   \n",
       "\n",
       "  peak_rpm  city_mpg  highway_mpg  price  \n",
       "0     5000        21           27  13495  \n",
       "1     5000        21           27  16500  \n",
       "2     5000        19           26  16500  \n",
       "3     5500        24           30  13950  \n",
       "4     5500        18           22  17450  "
      ]
     },
     "execution_count": 18,
     "metadata": {},
     "output_type": "execute_result"
    }
   ],
   "source": [
    "#Read in data\n",
    "df =pd.read_csv(\"/Users/nuthanreddyvaddireddy/Downloads/auto_imports1.csv\")\n",
    "\n",
    "df.head()"
   ]
  },
  {
   "cell_type": "markdown",
   "id": "007b9f3c",
   "metadata": {},
   "source": [
    "Loading the csv file consists of the data using pandas library and displaying the top five  rows of the dataset "
   ]
  },
  {
   "cell_type": "markdown",
   "id": "0612a859",
   "metadata": {},
   "source": [
    "## 2. Data "
   ]
  },
  {
   "cell_type": "markdown",
   "id": "a83025f2",
   "metadata": {},
   "source": [
    "## 2.1 Munging"
   ]
  },
  {
   "cell_type": "markdown",
   "id": "c6609441",
   "metadata": {},
   "source": [
    "Check what types of variables do you have in your data? Do you see anything that doesn't make sense? *Hint: horse power is  an object ?!*"
   ]
  },
  {
   "cell_type": "code",
   "execution_count": 19,
   "id": "31653e17",
   "metadata": {},
   "outputs": [
    {
     "name": "stdout",
     "output_type": "stream",
     "text": [
      "<class 'pandas.core.frame.DataFrame'>\n",
      "RangeIndex: 201 entries, 0 to 200\n",
      "Data columns (total 18 columns):\n",
      " #   Column       Non-Null Count  Dtype  \n",
      "---  ------       --------------  -----  \n",
      " 0   fuel_type    201 non-null    object \n",
      " 1   body         201 non-null    object \n",
      " 2   wheel_base   201 non-null    float64\n",
      " 3   length       201 non-null    float64\n",
      " 4   width        201 non-null    float64\n",
      " 5   heights      201 non-null    float64\n",
      " 6   curb_weight  201 non-null    int64  \n",
      " 7   engine_type  201 non-null    object \n",
      " 8   cylinders    201 non-null    object \n",
      " 9   engine_size  201 non-null    int64  \n",
      " 10  bore         201 non-null    object \n",
      " 11  stroke       201 non-null    object \n",
      " 12  comprassion  201 non-null    float64\n",
      " 13  horse_power  201 non-null    object \n",
      " 14  peak_rpm     201 non-null    object \n",
      " 15  city_mpg     201 non-null    int64  \n",
      " 16  highway_mpg  201 non-null    int64  \n",
      " 17  price        201 non-null    int64  \n",
      "dtypes: float64(5), int64(5), object(8)\n",
      "memory usage: 28.4+ KB\n"
     ]
    }
   ],
   "source": [
    "##your code here\n",
    "df.info()\n"
   ]
  },
  {
   "cell_type": "markdown",
   "id": "19f1cfa8",
   "metadata": {},
   "source": [
    "By using the info() we get the datatypes and number of non-null count of each column.\n",
    "In the above data we can see there are 5float64,5int64 and 8object datatypes out of 18 columns.\n",
    "In the data body,engine_type,cylinders,bore,stroke,horse_power and peak_rpm columns has numerical data but the datatype is shown as object. \n",
    "In the data there is no null values in each column."
   ]
  },
  {
   "cell_type": "markdown",
   "id": "bc82db67",
   "metadata": {},
   "source": [
    "### Replace '?' with None\n",
    "\n",
    "### Change the variables: bore, stroke, horse_power, peak_rpm to float64"
   ]
  },
  {
   "cell_type": "code",
   "execution_count": 20,
   "id": "44e48a11",
   "metadata": {},
   "outputs": [],
   "source": [
    "## Your code her\n",
    "df.replace(\"?\",None,inplace=True)\n",
    "\n",
    "converted_columns=['bore','stroke','horse_power','peak_rpm']\n",
    "\n",
    "df[converted_columns] = df[converted_columns].astype(float)\n"
   ]
  },
  {
   "cell_type": "markdown",
   "id": "e2956c7c",
   "metadata": {},
   "source": [
    "Replace the ? values with none values by using df.replace in the original dataframe.\n",
    "converting the columns bore,store,horse_power and peak_rpm datatypes into float datatypes by using the astype(float) function."
   ]
  },
  {
   "cell_type": "code",
   "execution_count": 21,
   "id": "679c62b9",
   "metadata": {},
   "outputs": [
    {
     "name": "stdout",
     "output_type": "stream",
     "text": [
      "<class 'pandas.core.frame.DataFrame'>\n",
      "RangeIndex: 201 entries, 0 to 200\n",
      "Data columns (total 18 columns):\n",
      " #   Column       Non-Null Count  Dtype  \n",
      "---  ------       --------------  -----  \n",
      " 0   fuel_type    201 non-null    object \n",
      " 1   body         201 non-null    object \n",
      " 2   wheel_base   201 non-null    float64\n",
      " 3   length       201 non-null    float64\n",
      " 4   width        201 non-null    float64\n",
      " 5   heights      201 non-null    float64\n",
      " 6   curb_weight  201 non-null    int64  \n",
      " 7   engine_type  201 non-null    object \n",
      " 8   cylinders    201 non-null    object \n",
      " 9   engine_size  201 non-null    int64  \n",
      " 10  bore         197 non-null    float64\n",
      " 11  stroke       197 non-null    float64\n",
      " 12  comprassion  201 non-null    float64\n",
      " 13  horse_power  199 non-null    float64\n",
      " 14  peak_rpm     199 non-null    float64\n",
      " 15  city_mpg     201 non-null    int64  \n",
      " 16  highway_mpg  201 non-null    int64  \n",
      " 17  price        201 non-null    int64  \n",
      "dtypes: float64(9), int64(5), object(4)\n",
      "memory usage: 28.4+ KB\n"
     ]
    }
   ],
   "source": [
    "df.info()"
   ]
  },
  {
   "cell_type": "markdown",
   "id": "b410e449",
   "metadata": {},
   "source": [
    "After replacing \"?\" with  None values and converting the columns bore,store,horse_power and peak_rpm datatypes into float datatypes.\n",
    "In the above data we can see there are 9float64,5int64 and 4object datatypes out of 18 columns.\n",
    "The columns fuel_type,body,wheel_base,length,width,heights,curb_weight,engine_type,\n",
    "cylinders,engine_size,comprassion,city_mpg,highway_mpg and price have no null values.\n",
    "The columns horse_power and peak_rpm have 2 null values.\n",
    "The columns bore and stroke have 4 null values."
   ]
  },
  {
   "cell_type": "markdown",
   "id": "e3e38f59",
   "metadata": {},
   "source": [
    "### Drop body,engine_type,cylinders columns and name the new dataframe df2"
   ]
  },
  {
   "cell_type": "code",
   "execution_count": 22,
   "id": "e376ebf3",
   "metadata": {},
   "outputs": [],
   "source": [
    "## Your code here\n",
    "df2 = df.drop(['body', 'engine_type', 'cylinders'], axis=1)\n"
   ]
  },
  {
   "cell_type": "markdown",
   "id": "ad0b5a9f",
   "metadata": {},
   "source": [
    "Droping the columns the body,engine_type and cylinders from the data by using df.drop funtion and loading the new data into new dataframe df2."
   ]
  },
  {
   "cell_type": "code",
   "execution_count": 23,
   "id": "2da1338f",
   "metadata": {},
   "outputs": [
    {
     "data": {
      "text/html": [
       "<div>\n",
       "<style scoped>\n",
       "    .dataframe tbody tr th:only-of-type {\n",
       "        vertical-align: middle;\n",
       "    }\n",
       "\n",
       "    .dataframe tbody tr th {\n",
       "        vertical-align: top;\n",
       "    }\n",
       "\n",
       "    .dataframe thead th {\n",
       "        text-align: right;\n",
       "    }\n",
       "</style>\n",
       "<table border=\"1\" class=\"dataframe\">\n",
       "  <thead>\n",
       "    <tr style=\"text-align: right;\">\n",
       "      <th></th>\n",
       "      <th>fuel_type</th>\n",
       "      <th>wheel_base</th>\n",
       "      <th>length</th>\n",
       "      <th>width</th>\n",
       "      <th>heights</th>\n",
       "      <th>curb_weight</th>\n",
       "      <th>engine_size</th>\n",
       "      <th>bore</th>\n",
       "      <th>stroke</th>\n",
       "      <th>comprassion</th>\n",
       "      <th>horse_power</th>\n",
       "      <th>peak_rpm</th>\n",
       "      <th>city_mpg</th>\n",
       "      <th>highway_mpg</th>\n",
       "      <th>price</th>\n",
       "    </tr>\n",
       "  </thead>\n",
       "  <tbody>\n",
       "    <tr>\n",
       "      <th>0</th>\n",
       "      <td>gas</td>\n",
       "      <td>88.6</td>\n",
       "      <td>168.8</td>\n",
       "      <td>64.1</td>\n",
       "      <td>48.8</td>\n",
       "      <td>2548</td>\n",
       "      <td>130</td>\n",
       "      <td>3.47</td>\n",
       "      <td>2.68</td>\n",
       "      <td>9.0</td>\n",
       "      <td>111.0</td>\n",
       "      <td>5000.0</td>\n",
       "      <td>21</td>\n",
       "      <td>27</td>\n",
       "      <td>13495</td>\n",
       "    </tr>\n",
       "    <tr>\n",
       "      <th>1</th>\n",
       "      <td>gas</td>\n",
       "      <td>88.6</td>\n",
       "      <td>168.8</td>\n",
       "      <td>64.1</td>\n",
       "      <td>48.8</td>\n",
       "      <td>2548</td>\n",
       "      <td>130</td>\n",
       "      <td>3.47</td>\n",
       "      <td>2.68</td>\n",
       "      <td>9.0</td>\n",
       "      <td>111.0</td>\n",
       "      <td>5000.0</td>\n",
       "      <td>21</td>\n",
       "      <td>27</td>\n",
       "      <td>16500</td>\n",
       "    </tr>\n",
       "    <tr>\n",
       "      <th>2</th>\n",
       "      <td>gas</td>\n",
       "      <td>94.5</td>\n",
       "      <td>171.2</td>\n",
       "      <td>65.5</td>\n",
       "      <td>52.4</td>\n",
       "      <td>2823</td>\n",
       "      <td>152</td>\n",
       "      <td>2.68</td>\n",
       "      <td>3.47</td>\n",
       "      <td>9.0</td>\n",
       "      <td>154.0</td>\n",
       "      <td>5000.0</td>\n",
       "      <td>19</td>\n",
       "      <td>26</td>\n",
       "      <td>16500</td>\n",
       "    </tr>\n",
       "    <tr>\n",
       "      <th>3</th>\n",
       "      <td>gas</td>\n",
       "      <td>99.8</td>\n",
       "      <td>176.6</td>\n",
       "      <td>66.2</td>\n",
       "      <td>54.3</td>\n",
       "      <td>2337</td>\n",
       "      <td>109</td>\n",
       "      <td>3.19</td>\n",
       "      <td>3.40</td>\n",
       "      <td>10.0</td>\n",
       "      <td>102.0</td>\n",
       "      <td>5500.0</td>\n",
       "      <td>24</td>\n",
       "      <td>30</td>\n",
       "      <td>13950</td>\n",
       "    </tr>\n",
       "    <tr>\n",
       "      <th>4</th>\n",
       "      <td>gas</td>\n",
       "      <td>99.4</td>\n",
       "      <td>176.6</td>\n",
       "      <td>66.4</td>\n",
       "      <td>54.3</td>\n",
       "      <td>2824</td>\n",
       "      <td>136</td>\n",
       "      <td>3.19</td>\n",
       "      <td>3.40</td>\n",
       "      <td>8.0</td>\n",
       "      <td>115.0</td>\n",
       "      <td>5500.0</td>\n",
       "      <td>18</td>\n",
       "      <td>22</td>\n",
       "      <td>17450</td>\n",
       "    </tr>\n",
       "  </tbody>\n",
       "</table>\n",
       "</div>"
      ],
      "text/plain": [
       "  fuel_type  wheel_base  length  width  heights  curb_weight  engine_size  \\\n",
       "0       gas        88.6   168.8   64.1     48.8         2548          130   \n",
       "1       gas        88.6   168.8   64.1     48.8         2548          130   \n",
       "2       gas        94.5   171.2   65.5     52.4         2823          152   \n",
       "3       gas        99.8   176.6   66.2     54.3         2337          109   \n",
       "4       gas        99.4   176.6   66.4     54.3         2824          136   \n",
       "\n",
       "   bore  stroke  comprassion  horse_power  peak_rpm  city_mpg  highway_mpg  \\\n",
       "0  3.47    2.68          9.0        111.0    5000.0        21           27   \n",
       "1  3.47    2.68          9.0        111.0    5000.0        21           27   \n",
       "2  2.68    3.47          9.0        154.0    5000.0        19           26   \n",
       "3  3.19    3.40         10.0        102.0    5500.0        24           30   \n",
       "4  3.19    3.40          8.0        115.0    5500.0        18           22   \n",
       "\n",
       "   price  \n",
       "0  13495  \n",
       "1  16500  \n",
       "2  16500  \n",
       "3  13950  \n",
       "4  17450  "
      ]
     },
     "execution_count": 23,
     "metadata": {},
     "output_type": "execute_result"
    }
   ],
   "source": [
    "df2.head()"
   ]
  },
  {
   "cell_type": "markdown",
   "id": "a357e076",
   "metadata": {},
   "source": [
    "By using df2.head() we get the top five rows of the data frame. "
   ]
  },
  {
   "cell_type": "markdown",
   "id": "776b5cda",
   "metadata": {},
   "source": [
    "### Drop all nan values"
   ]
  },
  {
   "cell_type": "code",
   "execution_count": 24,
   "id": "be7386d2",
   "metadata": {},
   "outputs": [
    {
     "name": "stdout",
     "output_type": "stream",
     "text": [
      "    fuel_type  wheel_base  length  width  heights  curb_weight  engine_size  \\\n",
      "0         gas        88.6   168.8   64.1     48.8         2548          130   \n",
      "1         gas        88.6   168.8   64.1     48.8         2548          130   \n",
      "2         gas        94.5   171.2   65.5     52.4         2823          152   \n",
      "3         gas        99.8   176.6   66.2     54.3         2337          109   \n",
      "4         gas        99.4   176.6   66.4     54.3         2824          136   \n",
      "..        ...         ...     ...    ...      ...          ...          ...   \n",
      "196       gas       109.1   188.8   68.9     55.5         2952          141   \n",
      "197       gas       109.1   188.8   68.8     55.5         3049          141   \n",
      "198       gas       109.1   188.8   68.9     55.5         3012          173   \n",
      "199    diesel       109.1   188.8   68.9     55.5         3217          145   \n",
      "200       gas       109.1   188.8   68.9     55.5         3062          141   \n",
      "\n",
      "     bore  stroke  comprassion  horse_power  peak_rpm  city_mpg  highway_mpg  \\\n",
      "0    3.47    2.68          9.0        111.0    5000.0        21           27   \n",
      "1    3.47    2.68          9.0        111.0    5000.0        21           27   \n",
      "2    2.68    3.47          9.0        154.0    5000.0        19           26   \n",
      "3    3.19    3.40         10.0        102.0    5500.0        24           30   \n",
      "4    3.19    3.40          8.0        115.0    5500.0        18           22   \n",
      "..    ...     ...          ...          ...       ...       ...          ...   \n",
      "196  3.78    3.15          9.5        114.0    5400.0        23           28   \n",
      "197  3.78    3.15          8.7        160.0    5300.0        19           25   \n",
      "198  3.58    2.87          8.8        134.0    5500.0        18           23   \n",
      "199  3.01    3.40         23.0        106.0    4800.0        26           27   \n",
      "200  3.78    3.15          9.5        114.0    5400.0        19           25   \n",
      "\n",
      "     price  \n",
      "0    13495  \n",
      "1    16500  \n",
      "2    16500  \n",
      "3    13950  \n",
      "4    17450  \n",
      "..     ...  \n",
      "196  16845  \n",
      "197  19045  \n",
      "198  21485  \n",
      "199  22470  \n",
      "200  22625  \n",
      "\n",
      "[195 rows x 15 columns]\n"
     ]
    }
   ],
   "source": [
    "## your code goes here\n",
    "df2.dropna(inplace=True)\n",
    "print(df2)\n"
   ]
  },
  {
   "cell_type": "raw",
   "id": "ff9a1af0",
   "metadata": {},
   "source": [
    "Dropping the all none values from the original dataframe by using the dropna(inplace=True).\n",
    "Where the inplace=True is used for dropping the null values rows from the original dataframe.\n"
   ]
  },
  {
   "cell_type": "code",
   "execution_count": 25,
   "id": "7d6a861b",
   "metadata": {
    "scrolled": false
   },
   "outputs": [
    {
     "data": {
      "text/plain": [
       "fuel_type      0\n",
       "wheel_base     0\n",
       "length         0\n",
       "width          0\n",
       "heights        0\n",
       "curb_weight    0\n",
       "engine_size    0\n",
       "bore           0\n",
       "stroke         0\n",
       "comprassion    0\n",
       "horse_power    0\n",
       "peak_rpm       0\n",
       "city_mpg       0\n",
       "highway_mpg    0\n",
       "price          0\n",
       "dtype: int64"
      ]
     },
     "execution_count": 25,
     "metadata": {},
     "output_type": "execute_result"
    }
   ],
   "source": [
    "df2.isnull().sum()"
   ]
  },
  {
   "cell_type": "markdown",
   "id": "8e8547d0",
   "metadata": {},
   "source": [
    "By using isnull().sum() we get count of null values in each column, In the above data the sum of null values in each  column is zero."
   ]
  },
  {
   "cell_type": "markdown",
   "id": "077e84ea",
   "metadata": {},
   "source": [
    "### Get dummy variables for fuel_type within df2 drop first level"
   ]
  },
  {
   "cell_type": "code",
   "execution_count": 26,
   "id": "6a8862f5",
   "metadata": {},
   "outputs": [
    {
     "data": {
      "text/html": [
       "<div>\n",
       "<style scoped>\n",
       "    .dataframe tbody tr th:only-of-type {\n",
       "        vertical-align: middle;\n",
       "    }\n",
       "\n",
       "    .dataframe tbody tr th {\n",
       "        vertical-align: top;\n",
       "    }\n",
       "\n",
       "    .dataframe thead th {\n",
       "        text-align: right;\n",
       "    }\n",
       "</style>\n",
       "<table border=\"1\" class=\"dataframe\">\n",
       "  <thead>\n",
       "    <tr style=\"text-align: right;\">\n",
       "      <th></th>\n",
       "      <th>wheel_base</th>\n",
       "      <th>length</th>\n",
       "      <th>width</th>\n",
       "      <th>heights</th>\n",
       "      <th>curb_weight</th>\n",
       "      <th>engine_size</th>\n",
       "      <th>bore</th>\n",
       "      <th>stroke</th>\n",
       "      <th>comprassion</th>\n",
       "      <th>horse_power</th>\n",
       "      <th>peak_rpm</th>\n",
       "      <th>city_mpg</th>\n",
       "      <th>highway_mpg</th>\n",
       "      <th>price</th>\n",
       "      <th>fuel_type_gas</th>\n",
       "    </tr>\n",
       "  </thead>\n",
       "  <tbody>\n",
       "    <tr>\n",
       "      <th>0</th>\n",
       "      <td>88.6</td>\n",
       "      <td>168.8</td>\n",
       "      <td>64.1</td>\n",
       "      <td>48.8</td>\n",
       "      <td>2548</td>\n",
       "      <td>130</td>\n",
       "      <td>3.47</td>\n",
       "      <td>2.68</td>\n",
       "      <td>9.0</td>\n",
       "      <td>111.0</td>\n",
       "      <td>5000.0</td>\n",
       "      <td>21</td>\n",
       "      <td>27</td>\n",
       "      <td>13495</td>\n",
       "      <td>1</td>\n",
       "    </tr>\n",
       "    <tr>\n",
       "      <th>1</th>\n",
       "      <td>88.6</td>\n",
       "      <td>168.8</td>\n",
       "      <td>64.1</td>\n",
       "      <td>48.8</td>\n",
       "      <td>2548</td>\n",
       "      <td>130</td>\n",
       "      <td>3.47</td>\n",
       "      <td>2.68</td>\n",
       "      <td>9.0</td>\n",
       "      <td>111.0</td>\n",
       "      <td>5000.0</td>\n",
       "      <td>21</td>\n",
       "      <td>27</td>\n",
       "      <td>16500</td>\n",
       "      <td>1</td>\n",
       "    </tr>\n",
       "    <tr>\n",
       "      <th>2</th>\n",
       "      <td>94.5</td>\n",
       "      <td>171.2</td>\n",
       "      <td>65.5</td>\n",
       "      <td>52.4</td>\n",
       "      <td>2823</td>\n",
       "      <td>152</td>\n",
       "      <td>2.68</td>\n",
       "      <td>3.47</td>\n",
       "      <td>9.0</td>\n",
       "      <td>154.0</td>\n",
       "      <td>5000.0</td>\n",
       "      <td>19</td>\n",
       "      <td>26</td>\n",
       "      <td>16500</td>\n",
       "      <td>1</td>\n",
       "    </tr>\n",
       "    <tr>\n",
       "      <th>3</th>\n",
       "      <td>99.8</td>\n",
       "      <td>176.6</td>\n",
       "      <td>66.2</td>\n",
       "      <td>54.3</td>\n",
       "      <td>2337</td>\n",
       "      <td>109</td>\n",
       "      <td>3.19</td>\n",
       "      <td>3.40</td>\n",
       "      <td>10.0</td>\n",
       "      <td>102.0</td>\n",
       "      <td>5500.0</td>\n",
       "      <td>24</td>\n",
       "      <td>30</td>\n",
       "      <td>13950</td>\n",
       "      <td>1</td>\n",
       "    </tr>\n",
       "    <tr>\n",
       "      <th>4</th>\n",
       "      <td>99.4</td>\n",
       "      <td>176.6</td>\n",
       "      <td>66.4</td>\n",
       "      <td>54.3</td>\n",
       "      <td>2824</td>\n",
       "      <td>136</td>\n",
       "      <td>3.19</td>\n",
       "      <td>3.40</td>\n",
       "      <td>8.0</td>\n",
       "      <td>115.0</td>\n",
       "      <td>5500.0</td>\n",
       "      <td>18</td>\n",
       "      <td>22</td>\n",
       "      <td>17450</td>\n",
       "      <td>1</td>\n",
       "    </tr>\n",
       "    <tr>\n",
       "      <th>...</th>\n",
       "      <td>...</td>\n",
       "      <td>...</td>\n",
       "      <td>...</td>\n",
       "      <td>...</td>\n",
       "      <td>...</td>\n",
       "      <td>...</td>\n",
       "      <td>...</td>\n",
       "      <td>...</td>\n",
       "      <td>...</td>\n",
       "      <td>...</td>\n",
       "      <td>...</td>\n",
       "      <td>...</td>\n",
       "      <td>...</td>\n",
       "      <td>...</td>\n",
       "      <td>...</td>\n",
       "    </tr>\n",
       "    <tr>\n",
       "      <th>196</th>\n",
       "      <td>109.1</td>\n",
       "      <td>188.8</td>\n",
       "      <td>68.9</td>\n",
       "      <td>55.5</td>\n",
       "      <td>2952</td>\n",
       "      <td>141</td>\n",
       "      <td>3.78</td>\n",
       "      <td>3.15</td>\n",
       "      <td>9.5</td>\n",
       "      <td>114.0</td>\n",
       "      <td>5400.0</td>\n",
       "      <td>23</td>\n",
       "      <td>28</td>\n",
       "      <td>16845</td>\n",
       "      <td>1</td>\n",
       "    </tr>\n",
       "    <tr>\n",
       "      <th>197</th>\n",
       "      <td>109.1</td>\n",
       "      <td>188.8</td>\n",
       "      <td>68.8</td>\n",
       "      <td>55.5</td>\n",
       "      <td>3049</td>\n",
       "      <td>141</td>\n",
       "      <td>3.78</td>\n",
       "      <td>3.15</td>\n",
       "      <td>8.7</td>\n",
       "      <td>160.0</td>\n",
       "      <td>5300.0</td>\n",
       "      <td>19</td>\n",
       "      <td>25</td>\n",
       "      <td>19045</td>\n",
       "      <td>1</td>\n",
       "    </tr>\n",
       "    <tr>\n",
       "      <th>198</th>\n",
       "      <td>109.1</td>\n",
       "      <td>188.8</td>\n",
       "      <td>68.9</td>\n",
       "      <td>55.5</td>\n",
       "      <td>3012</td>\n",
       "      <td>173</td>\n",
       "      <td>3.58</td>\n",
       "      <td>2.87</td>\n",
       "      <td>8.8</td>\n",
       "      <td>134.0</td>\n",
       "      <td>5500.0</td>\n",
       "      <td>18</td>\n",
       "      <td>23</td>\n",
       "      <td>21485</td>\n",
       "      <td>1</td>\n",
       "    </tr>\n",
       "    <tr>\n",
       "      <th>199</th>\n",
       "      <td>109.1</td>\n",
       "      <td>188.8</td>\n",
       "      <td>68.9</td>\n",
       "      <td>55.5</td>\n",
       "      <td>3217</td>\n",
       "      <td>145</td>\n",
       "      <td>3.01</td>\n",
       "      <td>3.40</td>\n",
       "      <td>23.0</td>\n",
       "      <td>106.0</td>\n",
       "      <td>4800.0</td>\n",
       "      <td>26</td>\n",
       "      <td>27</td>\n",
       "      <td>22470</td>\n",
       "      <td>0</td>\n",
       "    </tr>\n",
       "    <tr>\n",
       "      <th>200</th>\n",
       "      <td>109.1</td>\n",
       "      <td>188.8</td>\n",
       "      <td>68.9</td>\n",
       "      <td>55.5</td>\n",
       "      <td>3062</td>\n",
       "      <td>141</td>\n",
       "      <td>3.78</td>\n",
       "      <td>3.15</td>\n",
       "      <td>9.5</td>\n",
       "      <td>114.0</td>\n",
       "      <td>5400.0</td>\n",
       "      <td>19</td>\n",
       "      <td>25</td>\n",
       "      <td>22625</td>\n",
       "      <td>1</td>\n",
       "    </tr>\n",
       "  </tbody>\n",
       "</table>\n",
       "<p>195 rows × 15 columns</p>\n",
       "</div>"
      ],
      "text/plain": [
       "     wheel_base  length  width  heights  curb_weight  engine_size  bore  \\\n",
       "0          88.6   168.8   64.1     48.8         2548          130  3.47   \n",
       "1          88.6   168.8   64.1     48.8         2548          130  3.47   \n",
       "2          94.5   171.2   65.5     52.4         2823          152  2.68   \n",
       "3          99.8   176.6   66.2     54.3         2337          109  3.19   \n",
       "4          99.4   176.6   66.4     54.3         2824          136  3.19   \n",
       "..          ...     ...    ...      ...          ...          ...   ...   \n",
       "196       109.1   188.8   68.9     55.5         2952          141  3.78   \n",
       "197       109.1   188.8   68.8     55.5         3049          141  3.78   \n",
       "198       109.1   188.8   68.9     55.5         3012          173  3.58   \n",
       "199       109.1   188.8   68.9     55.5         3217          145  3.01   \n",
       "200       109.1   188.8   68.9     55.5         3062          141  3.78   \n",
       "\n",
       "     stroke  comprassion  horse_power  peak_rpm  city_mpg  highway_mpg  price  \\\n",
       "0      2.68          9.0        111.0    5000.0        21           27  13495   \n",
       "1      2.68          9.0        111.0    5000.0        21           27  16500   \n",
       "2      3.47          9.0        154.0    5000.0        19           26  16500   \n",
       "3      3.40         10.0        102.0    5500.0        24           30  13950   \n",
       "4      3.40          8.0        115.0    5500.0        18           22  17450   \n",
       "..      ...          ...          ...       ...       ...          ...    ...   \n",
       "196    3.15          9.5        114.0    5400.0        23           28  16845   \n",
       "197    3.15          8.7        160.0    5300.0        19           25  19045   \n",
       "198    2.87          8.8        134.0    5500.0        18           23  21485   \n",
       "199    3.40         23.0        106.0    4800.0        26           27  22470   \n",
       "200    3.15          9.5        114.0    5400.0        19           25  22625   \n",
       "\n",
       "     fuel_type_gas  \n",
       "0                1  \n",
       "1                1  \n",
       "2                1  \n",
       "3                1  \n",
       "4                1  \n",
       "..             ...  \n",
       "196              1  \n",
       "197              1  \n",
       "198              1  \n",
       "199              0  \n",
       "200              1  \n",
       "\n",
       "[195 rows x 15 columns]"
      ]
     },
     "execution_count": 26,
     "metadata": {},
     "output_type": "execute_result"
    }
   ],
   "source": [
    "df2 = pd.get_dummies(df2, columns=['fuel_type'], drop_first=True)\n",
    "df2"
   ]
  },
  {
   "cell_type": "markdown",
   "id": "4ca1232f",
   "metadata": {},
   "source": [
    "converting the categorical variables into binary (0 or 1) columns.\n",
    "columns=['fuel_type'] This specifies the column in the DataFrame df2 in the original dataframe.\n"
   ]
  },
  {
   "cell_type": "code",
   "execution_count": 27,
   "id": "0be0d4db",
   "metadata": {},
   "outputs": [
    {
     "name": "stdout",
     "output_type": "stream",
     "text": [
      "<class 'pandas.core.frame.DataFrame'>\n",
      "Int64Index: 195 entries, 0 to 200\n",
      "Data columns (total 15 columns):\n",
      " #   Column         Non-Null Count  Dtype  \n",
      "---  ------         --------------  -----  \n",
      " 0   wheel_base     195 non-null    float64\n",
      " 1   length         195 non-null    float64\n",
      " 2   width          195 non-null    float64\n",
      " 3   heights        195 non-null    float64\n",
      " 4   curb_weight    195 non-null    int64  \n",
      " 5   engine_size    195 non-null    int64  \n",
      " 6   bore           195 non-null    float64\n",
      " 7   stroke         195 non-null    float64\n",
      " 8   comprassion    195 non-null    float64\n",
      " 9   horse_power    195 non-null    float64\n",
      " 10  peak_rpm       195 non-null    float64\n",
      " 11  city_mpg       195 non-null    int64  \n",
      " 12  highway_mpg    195 non-null    int64  \n",
      " 13  price          195 non-null    int64  \n",
      " 14  fuel_type_gas  195 non-null    uint8  \n",
      "dtypes: float64(9), int64(5), uint8(1)\n",
      "memory usage: 23.0 KB\n"
     ]
    }
   ],
   "source": [
    "df2.info()"
   ]
  },
  {
   "cell_type": "markdown",
   "id": "3c260a83",
   "metadata": {},
   "source": [
    "By using the info() we get the datatypes and number of non-null count of each column.\n",
    "In the above data we can see there are 9float64,5int64 and 1 object datatypes out of 15 columns.\n",
    "All the columns in the data will have no null values. "
   ]
  },
  {
   "cell_type": "markdown",
   "id": "671c8e51",
   "metadata": {},
   "source": [
    "## 2.2 EDA on df2"
   ]
  },
  {
   "cell_type": "markdown",
   "id": "8ac7ba3e",
   "metadata": {},
   "source": [
    "Exploratory Data Analysis refers to the critical process of performing initial investigations on data so as to discover patterns,to spot anomalies,to test hypothesis and to check assumptions with the help of summary statistics and graphical representations.\n",
    "\n",
    "Follow the lecture notes for ideas of how to perform EDA on your dataset. For help, here are the steps we talked about:\n",
    "\n",
    "Suggested Steps in EDA:\n",
    "\n",
    "    Provide descriptions of your sample and features\n",
    "    Check for missing data\n",
    "    Identify the shape of your data\n",
    "    Identify significant correlations\n",
    "    Spot/deal with outliers in the dataset\n",
    "\n",
    "These steps are a guidline. Try different things and share your insights about the dataset (**df2**).\n",
    "\n",
    "Don't forget to add \"markdown\" cells to include your findings or to explain what you are doing\n"
   ]
  },
  {
   "cell_type": "code",
   "execution_count": 28,
   "id": "71708d38",
   "metadata": {},
   "outputs": [
    {
     "data": {
      "text/plain": [
       "(195, 15)"
      ]
     },
     "execution_count": 28,
     "metadata": {},
     "output_type": "execute_result"
    }
   ],
   "source": [
    "## Your EDA should start here\n",
    "df2.shape\n"
   ]
  },
  {
   "cell_type": "markdown",
   "id": "deb80438",
   "metadata": {},
   "source": [
    "Finding the shape of the data by using df2.shape, In the above data shape is (195,15)\n",
    "195-rows\n",
    "15-columns"
   ]
  },
  {
   "cell_type": "code",
   "execution_count": 29,
   "id": "400e058d",
   "metadata": {},
   "outputs": [
    {
     "name": "stdout",
     "output_type": "stream",
     "text": [
      "<class 'pandas.core.frame.DataFrame'>\n",
      "Int64Index: 195 entries, 0 to 200\n",
      "Data columns (total 15 columns):\n",
      " #   Column         Non-Null Count  Dtype  \n",
      "---  ------         --------------  -----  \n",
      " 0   wheel_base     195 non-null    float64\n",
      " 1   length         195 non-null    float64\n",
      " 2   width          195 non-null    float64\n",
      " 3   heights        195 non-null    float64\n",
      " 4   curb_weight    195 non-null    int64  \n",
      " 5   engine_size    195 non-null    int64  \n",
      " 6   bore           195 non-null    float64\n",
      " 7   stroke         195 non-null    float64\n",
      " 8   comprassion    195 non-null    float64\n",
      " 9   horse_power    195 non-null    float64\n",
      " 10  peak_rpm       195 non-null    float64\n",
      " 11  city_mpg       195 non-null    int64  \n",
      " 12  highway_mpg    195 non-null    int64  \n",
      " 13  price          195 non-null    int64  \n",
      " 14  fuel_type_gas  195 non-null    uint8  \n",
      "dtypes: float64(9), int64(5), uint8(1)\n",
      "memory usage: 23.0 KB\n"
     ]
    }
   ],
   "source": [
    "df2.info()"
   ]
  },
  {
   "cell_type": "markdown",
   "id": "459b012f",
   "metadata": {},
   "source": [
    "In the above data we can see there 195-rows and 15-columns, In which there are 9-float64,5-int64 and 1-uint8 datatypes.\n",
    "The number of non-null values in each column is zero."
   ]
  },
  {
   "cell_type": "code",
   "execution_count": 30,
   "id": "e2c987f1",
   "metadata": {},
   "outputs": [
    {
     "data": {
      "text/html": [
       "<div>\n",
       "<style scoped>\n",
       "    .dataframe tbody tr th:only-of-type {\n",
       "        vertical-align: middle;\n",
       "    }\n",
       "\n",
       "    .dataframe tbody tr th {\n",
       "        vertical-align: top;\n",
       "    }\n",
       "\n",
       "    .dataframe thead th {\n",
       "        text-align: right;\n",
       "    }\n",
       "</style>\n",
       "<table border=\"1\" class=\"dataframe\">\n",
       "  <thead>\n",
       "    <tr style=\"text-align: right;\">\n",
       "      <th></th>\n",
       "      <th>wheel_base</th>\n",
       "      <th>length</th>\n",
       "      <th>width</th>\n",
       "      <th>heights</th>\n",
       "      <th>curb_weight</th>\n",
       "      <th>engine_size</th>\n",
       "      <th>bore</th>\n",
       "      <th>stroke</th>\n",
       "      <th>comprassion</th>\n",
       "      <th>horse_power</th>\n",
       "      <th>peak_rpm</th>\n",
       "      <th>city_mpg</th>\n",
       "      <th>highway_mpg</th>\n",
       "      <th>price</th>\n",
       "      <th>fuel_type_gas</th>\n",
       "    </tr>\n",
       "  </thead>\n",
       "  <tbody>\n",
       "    <tr>\n",
       "      <th>count</th>\n",
       "      <td>195.000000</td>\n",
       "      <td>195.000000</td>\n",
       "      <td>195.000000</td>\n",
       "      <td>195.000000</td>\n",
       "      <td>195.000000</td>\n",
       "      <td>195.000000</td>\n",
       "      <td>195.000000</td>\n",
       "      <td>195.000000</td>\n",
       "      <td>195.000000</td>\n",
       "      <td>195.000000</td>\n",
       "      <td>195.000000</td>\n",
       "      <td>195.000000</td>\n",
       "      <td>195.000000</td>\n",
       "      <td>195.000000</td>\n",
       "      <td>195.000000</td>\n",
       "    </tr>\n",
       "    <tr>\n",
       "      <th>mean</th>\n",
       "      <td>98.896410</td>\n",
       "      <td>174.256923</td>\n",
       "      <td>65.886154</td>\n",
       "      <td>53.861538</td>\n",
       "      <td>2559.000000</td>\n",
       "      <td>127.938462</td>\n",
       "      <td>3.329385</td>\n",
       "      <td>3.250308</td>\n",
       "      <td>10.194974</td>\n",
       "      <td>103.271795</td>\n",
       "      <td>5099.487179</td>\n",
       "      <td>25.374359</td>\n",
       "      <td>30.841026</td>\n",
       "      <td>13248.015385</td>\n",
       "      <td>0.897436</td>\n",
       "    </tr>\n",
       "    <tr>\n",
       "      <th>std</th>\n",
       "      <td>6.132038</td>\n",
       "      <td>12.476443</td>\n",
       "      <td>2.132484</td>\n",
       "      <td>2.396778</td>\n",
       "      <td>524.715799</td>\n",
       "      <td>41.433916</td>\n",
       "      <td>0.271866</td>\n",
       "      <td>0.314115</td>\n",
       "      <td>4.062109</td>\n",
       "      <td>37.869730</td>\n",
       "      <td>468.271381</td>\n",
       "      <td>6.401382</td>\n",
       "      <td>6.829315</td>\n",
       "      <td>8056.330093</td>\n",
       "      <td>0.304170</td>\n",
       "    </tr>\n",
       "    <tr>\n",
       "      <th>min</th>\n",
       "      <td>86.600000</td>\n",
       "      <td>141.100000</td>\n",
       "      <td>60.300000</td>\n",
       "      <td>47.800000</td>\n",
       "      <td>1488.000000</td>\n",
       "      <td>61.000000</td>\n",
       "      <td>2.540000</td>\n",
       "      <td>2.070000</td>\n",
       "      <td>7.000000</td>\n",
       "      <td>48.000000</td>\n",
       "      <td>4150.000000</td>\n",
       "      <td>13.000000</td>\n",
       "      <td>16.000000</td>\n",
       "      <td>5118.000000</td>\n",
       "      <td>0.000000</td>\n",
       "    </tr>\n",
       "    <tr>\n",
       "      <th>25%</th>\n",
       "      <td>94.500000</td>\n",
       "      <td>166.300000</td>\n",
       "      <td>64.050000</td>\n",
       "      <td>52.000000</td>\n",
       "      <td>2145.000000</td>\n",
       "      <td>98.000000</td>\n",
       "      <td>3.150000</td>\n",
       "      <td>3.110000</td>\n",
       "      <td>8.500000</td>\n",
       "      <td>70.000000</td>\n",
       "      <td>4800.000000</td>\n",
       "      <td>19.500000</td>\n",
       "      <td>25.000000</td>\n",
       "      <td>7756.500000</td>\n",
       "      <td>1.000000</td>\n",
       "    </tr>\n",
       "    <tr>\n",
       "      <th>50%</th>\n",
       "      <td>97.000000</td>\n",
       "      <td>173.200000</td>\n",
       "      <td>65.400000</td>\n",
       "      <td>54.100000</td>\n",
       "      <td>2414.000000</td>\n",
       "      <td>120.000000</td>\n",
       "      <td>3.310000</td>\n",
       "      <td>3.290000</td>\n",
       "      <td>9.000000</td>\n",
       "      <td>95.000000</td>\n",
       "      <td>5100.000000</td>\n",
       "      <td>25.000000</td>\n",
       "      <td>30.000000</td>\n",
       "      <td>10245.000000</td>\n",
       "      <td>1.000000</td>\n",
       "    </tr>\n",
       "    <tr>\n",
       "      <th>75%</th>\n",
       "      <td>102.400000</td>\n",
       "      <td>184.050000</td>\n",
       "      <td>66.900000</td>\n",
       "      <td>55.650000</td>\n",
       "      <td>2943.500000</td>\n",
       "      <td>145.500000</td>\n",
       "      <td>3.590000</td>\n",
       "      <td>3.410000</td>\n",
       "      <td>9.400000</td>\n",
       "      <td>116.000000</td>\n",
       "      <td>5500.000000</td>\n",
       "      <td>30.000000</td>\n",
       "      <td>35.000000</td>\n",
       "      <td>16509.000000</td>\n",
       "      <td>1.000000</td>\n",
       "    </tr>\n",
       "    <tr>\n",
       "      <th>max</th>\n",
       "      <td>120.900000</td>\n",
       "      <td>208.100000</td>\n",
       "      <td>72.000000</td>\n",
       "      <td>59.800000</td>\n",
       "      <td>4066.000000</td>\n",
       "      <td>326.000000</td>\n",
       "      <td>3.940000</td>\n",
       "      <td>4.170000</td>\n",
       "      <td>23.000000</td>\n",
       "      <td>262.000000</td>\n",
       "      <td>6600.000000</td>\n",
       "      <td>49.000000</td>\n",
       "      <td>54.000000</td>\n",
       "      <td>45400.000000</td>\n",
       "      <td>1.000000</td>\n",
       "    </tr>\n",
       "  </tbody>\n",
       "</table>\n",
       "</div>"
      ],
      "text/plain": [
       "       wheel_base      length       width     heights  curb_weight  \\\n",
       "count  195.000000  195.000000  195.000000  195.000000   195.000000   \n",
       "mean    98.896410  174.256923   65.886154   53.861538  2559.000000   \n",
       "std      6.132038   12.476443    2.132484    2.396778   524.715799   \n",
       "min     86.600000  141.100000   60.300000   47.800000  1488.000000   \n",
       "25%     94.500000  166.300000   64.050000   52.000000  2145.000000   \n",
       "50%     97.000000  173.200000   65.400000   54.100000  2414.000000   \n",
       "75%    102.400000  184.050000   66.900000   55.650000  2943.500000   \n",
       "max    120.900000  208.100000   72.000000   59.800000  4066.000000   \n",
       "\n",
       "       engine_size        bore      stroke  comprassion  horse_power  \\\n",
       "count   195.000000  195.000000  195.000000   195.000000   195.000000   \n",
       "mean    127.938462    3.329385    3.250308    10.194974   103.271795   \n",
       "std      41.433916    0.271866    0.314115     4.062109    37.869730   \n",
       "min      61.000000    2.540000    2.070000     7.000000    48.000000   \n",
       "25%      98.000000    3.150000    3.110000     8.500000    70.000000   \n",
       "50%     120.000000    3.310000    3.290000     9.000000    95.000000   \n",
       "75%     145.500000    3.590000    3.410000     9.400000   116.000000   \n",
       "max     326.000000    3.940000    4.170000    23.000000   262.000000   \n",
       "\n",
       "          peak_rpm    city_mpg  highway_mpg         price  fuel_type_gas  \n",
       "count   195.000000  195.000000   195.000000    195.000000     195.000000  \n",
       "mean   5099.487179   25.374359    30.841026  13248.015385       0.897436  \n",
       "std     468.271381    6.401382     6.829315   8056.330093       0.304170  \n",
       "min    4150.000000   13.000000    16.000000   5118.000000       0.000000  \n",
       "25%    4800.000000   19.500000    25.000000   7756.500000       1.000000  \n",
       "50%    5100.000000   25.000000    30.000000  10245.000000       1.000000  \n",
       "75%    5500.000000   30.000000    35.000000  16509.000000       1.000000  \n",
       "max    6600.000000   49.000000    54.000000  45400.000000       1.000000  "
      ]
     },
     "execution_count": 30,
     "metadata": {},
     "output_type": "execute_result"
    }
   ],
   "source": [
    "df2.describe()"
   ]
  },
  {
   "cell_type": "markdown",
   "id": "957a0738",
   "metadata": {},
   "source": [
    "df2.describe() command used for to find mean count standard deviation,min,max,count and quartlies of the data."
   ]
  },
  {
   "cell_type": "code",
   "execution_count": 31,
   "id": "44083c5c",
   "metadata": {},
   "outputs": [
    {
     "data": {
      "text/plain": [
       "wheel_base       0\n",
       "length           0\n",
       "width            0\n",
       "heights          0\n",
       "curb_weight      0\n",
       "engine_size      0\n",
       "bore             0\n",
       "stroke           0\n",
       "comprassion      0\n",
       "horse_power      0\n",
       "peak_rpm         0\n",
       "city_mpg         0\n",
       "highway_mpg      0\n",
       "price            0\n",
       "fuel_type_gas    0\n",
       "dtype: int64"
      ]
     },
     "execution_count": 31,
     "metadata": {},
     "output_type": "execute_result"
    }
   ],
   "source": [
    "df2.isnull().sum()"
   ]
  },
  {
   "cell_type": "markdown",
   "id": "25e03e09",
   "metadata": {},
   "source": [
    "By using isnull().sum() we get the sum all null in each column, In the data the sum of all null values in each column is zero."
   ]
  },
  {
   "cell_type": "code",
   "execution_count": 32,
   "id": "e1d3ce3d",
   "metadata": {},
   "outputs": [
    {
     "data": {
      "text/html": [
       "<div>\n",
       "<style scoped>\n",
       "    .dataframe tbody tr th:only-of-type {\n",
       "        vertical-align: middle;\n",
       "    }\n",
       "\n",
       "    .dataframe tbody tr th {\n",
       "        vertical-align: top;\n",
       "    }\n",
       "\n",
       "    .dataframe thead th {\n",
       "        text-align: right;\n",
       "    }\n",
       "</style>\n",
       "<table border=\"1\" class=\"dataframe\">\n",
       "  <thead>\n",
       "    <tr style=\"text-align: right;\">\n",
       "      <th></th>\n",
       "      <th>wheel_base</th>\n",
       "      <th>length</th>\n",
       "      <th>width</th>\n",
       "      <th>heights</th>\n",
       "      <th>curb_weight</th>\n",
       "      <th>engine_size</th>\n",
       "      <th>bore</th>\n",
       "      <th>stroke</th>\n",
       "      <th>comprassion</th>\n",
       "      <th>horse_power</th>\n",
       "      <th>peak_rpm</th>\n",
       "      <th>city_mpg</th>\n",
       "      <th>highway_mpg</th>\n",
       "      <th>price</th>\n",
       "      <th>fuel_type_gas</th>\n",
       "    </tr>\n",
       "  </thead>\n",
       "  <tbody>\n",
       "    <tr>\n",
       "      <th>0</th>\n",
       "      <td>88.6</td>\n",
       "      <td>168.8</td>\n",
       "      <td>64.1</td>\n",
       "      <td>48.8</td>\n",
       "      <td>2548</td>\n",
       "      <td>130</td>\n",
       "      <td>3.47</td>\n",
       "      <td>2.68</td>\n",
       "      <td>9.0</td>\n",
       "      <td>111.0</td>\n",
       "      <td>5000.0</td>\n",
       "      <td>21</td>\n",
       "      <td>27</td>\n",
       "      <td>13495</td>\n",
       "      <td>1</td>\n",
       "    </tr>\n",
       "    <tr>\n",
       "      <th>1</th>\n",
       "      <td>88.6</td>\n",
       "      <td>168.8</td>\n",
       "      <td>64.1</td>\n",
       "      <td>48.8</td>\n",
       "      <td>2548</td>\n",
       "      <td>130</td>\n",
       "      <td>3.47</td>\n",
       "      <td>2.68</td>\n",
       "      <td>9.0</td>\n",
       "      <td>111.0</td>\n",
       "      <td>5000.0</td>\n",
       "      <td>21</td>\n",
       "      <td>27</td>\n",
       "      <td>16500</td>\n",
       "      <td>1</td>\n",
       "    </tr>\n",
       "    <tr>\n",
       "      <th>2</th>\n",
       "      <td>94.5</td>\n",
       "      <td>171.2</td>\n",
       "      <td>65.5</td>\n",
       "      <td>52.4</td>\n",
       "      <td>2823</td>\n",
       "      <td>152</td>\n",
       "      <td>2.68</td>\n",
       "      <td>3.47</td>\n",
       "      <td>9.0</td>\n",
       "      <td>154.0</td>\n",
       "      <td>5000.0</td>\n",
       "      <td>19</td>\n",
       "      <td>26</td>\n",
       "      <td>16500</td>\n",
       "      <td>1</td>\n",
       "    </tr>\n",
       "    <tr>\n",
       "      <th>3</th>\n",
       "      <td>99.8</td>\n",
       "      <td>176.6</td>\n",
       "      <td>66.2</td>\n",
       "      <td>54.3</td>\n",
       "      <td>2337</td>\n",
       "      <td>109</td>\n",
       "      <td>3.19</td>\n",
       "      <td>3.40</td>\n",
       "      <td>10.0</td>\n",
       "      <td>102.0</td>\n",
       "      <td>5500.0</td>\n",
       "      <td>24</td>\n",
       "      <td>30</td>\n",
       "      <td>13950</td>\n",
       "      <td>1</td>\n",
       "    </tr>\n",
       "    <tr>\n",
       "      <th>4</th>\n",
       "      <td>99.4</td>\n",
       "      <td>176.6</td>\n",
       "      <td>66.4</td>\n",
       "      <td>54.3</td>\n",
       "      <td>2824</td>\n",
       "      <td>136</td>\n",
       "      <td>3.19</td>\n",
       "      <td>3.40</td>\n",
       "      <td>8.0</td>\n",
       "      <td>115.0</td>\n",
       "      <td>5500.0</td>\n",
       "      <td>18</td>\n",
       "      <td>22</td>\n",
       "      <td>17450</td>\n",
       "      <td>1</td>\n",
       "    </tr>\n",
       "    <tr>\n",
       "      <th>...</th>\n",
       "      <td>...</td>\n",
       "      <td>...</td>\n",
       "      <td>...</td>\n",
       "      <td>...</td>\n",
       "      <td>...</td>\n",
       "      <td>...</td>\n",
       "      <td>...</td>\n",
       "      <td>...</td>\n",
       "      <td>...</td>\n",
       "      <td>...</td>\n",
       "      <td>...</td>\n",
       "      <td>...</td>\n",
       "      <td>...</td>\n",
       "      <td>...</td>\n",
       "      <td>...</td>\n",
       "    </tr>\n",
       "    <tr>\n",
       "      <th>196</th>\n",
       "      <td>109.1</td>\n",
       "      <td>188.8</td>\n",
       "      <td>68.9</td>\n",
       "      <td>55.5</td>\n",
       "      <td>2952</td>\n",
       "      <td>141</td>\n",
       "      <td>3.78</td>\n",
       "      <td>3.15</td>\n",
       "      <td>9.5</td>\n",
       "      <td>114.0</td>\n",
       "      <td>5400.0</td>\n",
       "      <td>23</td>\n",
       "      <td>28</td>\n",
       "      <td>16845</td>\n",
       "      <td>1</td>\n",
       "    </tr>\n",
       "    <tr>\n",
       "      <th>197</th>\n",
       "      <td>109.1</td>\n",
       "      <td>188.8</td>\n",
       "      <td>68.8</td>\n",
       "      <td>55.5</td>\n",
       "      <td>3049</td>\n",
       "      <td>141</td>\n",
       "      <td>3.78</td>\n",
       "      <td>3.15</td>\n",
       "      <td>8.7</td>\n",
       "      <td>160.0</td>\n",
       "      <td>5300.0</td>\n",
       "      <td>19</td>\n",
       "      <td>25</td>\n",
       "      <td>19045</td>\n",
       "      <td>1</td>\n",
       "    </tr>\n",
       "    <tr>\n",
       "      <th>198</th>\n",
       "      <td>109.1</td>\n",
       "      <td>188.8</td>\n",
       "      <td>68.9</td>\n",
       "      <td>55.5</td>\n",
       "      <td>3012</td>\n",
       "      <td>173</td>\n",
       "      <td>3.58</td>\n",
       "      <td>2.87</td>\n",
       "      <td>8.8</td>\n",
       "      <td>134.0</td>\n",
       "      <td>5500.0</td>\n",
       "      <td>18</td>\n",
       "      <td>23</td>\n",
       "      <td>21485</td>\n",
       "      <td>1</td>\n",
       "    </tr>\n",
       "    <tr>\n",
       "      <th>199</th>\n",
       "      <td>109.1</td>\n",
       "      <td>188.8</td>\n",
       "      <td>68.9</td>\n",
       "      <td>55.5</td>\n",
       "      <td>3217</td>\n",
       "      <td>145</td>\n",
       "      <td>3.01</td>\n",
       "      <td>3.40</td>\n",
       "      <td>23.0</td>\n",
       "      <td>106.0</td>\n",
       "      <td>4800.0</td>\n",
       "      <td>26</td>\n",
       "      <td>27</td>\n",
       "      <td>22470</td>\n",
       "      <td>0</td>\n",
       "    </tr>\n",
       "    <tr>\n",
       "      <th>200</th>\n",
       "      <td>109.1</td>\n",
       "      <td>188.8</td>\n",
       "      <td>68.9</td>\n",
       "      <td>55.5</td>\n",
       "      <td>3062</td>\n",
       "      <td>141</td>\n",
       "      <td>3.78</td>\n",
       "      <td>3.15</td>\n",
       "      <td>9.5</td>\n",
       "      <td>114.0</td>\n",
       "      <td>5400.0</td>\n",
       "      <td>19</td>\n",
       "      <td>25</td>\n",
       "      <td>22625</td>\n",
       "      <td>1</td>\n",
       "    </tr>\n",
       "  </tbody>\n",
       "</table>\n",
       "<p>192 rows × 15 columns</p>\n",
       "</div>"
      ],
      "text/plain": [
       "     wheel_base  length  width  heights  curb_weight  engine_size  bore  \\\n",
       "0          88.6   168.8   64.1     48.8         2548          130  3.47   \n",
       "1          88.6   168.8   64.1     48.8         2548          130  3.47   \n",
       "2          94.5   171.2   65.5     52.4         2823          152  2.68   \n",
       "3          99.8   176.6   66.2     54.3         2337          109  3.19   \n",
       "4          99.4   176.6   66.4     54.3         2824          136  3.19   \n",
       "..          ...     ...    ...      ...          ...          ...   ...   \n",
       "196       109.1   188.8   68.9     55.5         2952          141  3.78   \n",
       "197       109.1   188.8   68.8     55.5         3049          141  3.78   \n",
       "198       109.1   188.8   68.9     55.5         3012          173  3.58   \n",
       "199       109.1   188.8   68.9     55.5         3217          145  3.01   \n",
       "200       109.1   188.8   68.9     55.5         3062          141  3.78   \n",
       "\n",
       "     stroke  comprassion  horse_power  peak_rpm  city_mpg  highway_mpg  price  \\\n",
       "0      2.68          9.0        111.0    5000.0        21           27  13495   \n",
       "1      2.68          9.0        111.0    5000.0        21           27  16500   \n",
       "2      3.47          9.0        154.0    5000.0        19           26  16500   \n",
       "3      3.40         10.0        102.0    5500.0        24           30  13950   \n",
       "4      3.40          8.0        115.0    5500.0        18           22  17450   \n",
       "..      ...          ...          ...       ...       ...          ...    ...   \n",
       "196    3.15          9.5        114.0    5400.0        23           28  16845   \n",
       "197    3.15          8.7        160.0    5300.0        19           25  19045   \n",
       "198    2.87          8.8        134.0    5500.0        18           23  21485   \n",
       "199    3.40         23.0        106.0    4800.0        26           27  22470   \n",
       "200    3.15          9.5        114.0    5400.0        19           25  22625   \n",
       "\n",
       "     fuel_type_gas  \n",
       "0                1  \n",
       "1                1  \n",
       "2                1  \n",
       "3                1  \n",
       "4                1  \n",
       "..             ...  \n",
       "196              1  \n",
       "197              1  \n",
       "198              1  \n",
       "199              0  \n",
       "200              1  \n",
       "\n",
       "[192 rows x 15 columns]"
      ]
     },
     "execution_count": 32,
     "metadata": {},
     "output_type": "execute_result"
    }
   ],
   "source": [
    "df2.drop_duplicates()"
   ]
  },
  {
   "cell_type": "markdown",
   "id": "2c0bfdd4",
   "metadata": {},
   "source": [
    "By using df2.drop_duplicates() we drop the duplicate values from the dataframe.we are going to remove the duplicates in the dataset so that the storage will not get wasted and it would be very much useful to store other data in place of duplicate data."
   ]
  },
  {
   "cell_type": "code",
   "execution_count": 33,
   "id": "16744cfa",
   "metadata": {},
   "outputs": [
    {
     "data": {
      "text/plain": [
       "fuel_type        2\n",
       "body             5\n",
       "wheel_base      52\n",
       "length          73\n",
       "width           43\n",
       "heights         49\n",
       "curb_weight    169\n",
       "engine_type      6\n",
       "cylinders        7\n",
       "engine_size     43\n",
       "bore            38\n",
       "stroke          36\n",
       "comprassion     32\n",
       "horse_power     58\n",
       "peak_rpm        22\n",
       "city_mpg        29\n",
       "highway_mpg     30\n",
       "price          186\n",
       "dtype: int64"
      ]
     },
     "execution_count": 33,
     "metadata": {},
     "output_type": "execute_result"
    }
   ],
   "source": [
    "df.nunique() "
   ]
  },
  {
   "cell_type": "markdown",
   "id": "2d635f9c",
   "metadata": {},
   "source": [
    "df.nunique() method is used to find the number of unique values in the column."
   ]
  },
  {
   "cell_type": "code",
   "execution_count": 34,
   "id": "ffad7716",
   "metadata": {},
   "outputs": [
    {
     "data": {
      "text/plain": [
       "fuel_type_gas\n",
       "1    175\n",
       "0     20\n",
       "dtype: int64"
      ]
     },
     "execution_count": 34,
     "metadata": {},
     "output_type": "execute_result"
    }
   ],
   "source": [
    "df2.value_counts(\"fuel_type_gas\")"
   ]
  },
  {
   "cell_type": "markdown",
   "id": "29688ce5",
   "metadata": {},
   "source": [
    "1-175 and 0-20\n",
    "In the above data we can see the dataset value count of each class is not same, so the dataset is not balanced and it varies excessively and it is not good for prediction.\n"
   ]
  },
  {
   "cell_type": "code",
   "execution_count": 35,
   "id": "be2d9dfa",
   "metadata": {},
   "outputs": [
    {
     "data": {
      "text/plain": [
       "<Axes: xlabel='fuel_type_gas', ylabel='count'>"
      ]
     },
     "execution_count": 35,
     "metadata": {},
     "output_type": "execute_result"
    },
    {
     "data": {
      "image/png": "[encoded data removed]",
      "text/plain": [
       "<Figure size 640x480 with 1 Axes>"
      ]
     },
     "metadata": {},
     "output_type": "display_data"
    }
   ],
   "source": [
    "sns.countplot(x=\"fuel_type_gas\", data=df2, )"
   ]
  },
  {
   "cell_type": "markdown",
   "id": "cc860904",
   "metadata": {},
   "source": [
    "By sns.countplot(x=\"fuel_type\", data=df2, ) we get the count plot for the values in the fuel_type column. \n",
    "1-175 values\n",
    "0-20 values"
   ]
  },
  {
   "cell_type": "code",
   "execution_count": 36,
   "id": "9cad80aa",
   "metadata": {},
   "outputs": [
    {
     "data": {
      "text/plain": [
       "<Axes: xlabel='fuel_type_gas', ylabel='wheel_base'>"
      ]
     },
     "execution_count": 36,
     "metadata": {},
     "output_type": "execute_result"
    },
    {
     "data": {
      "image/png": "[encoded data removed]",
      "text/plain": [
       "<Figure size 640x480 with 1 Axes>"
      ]
     },
     "metadata": {},
     "output_type": "display_data"
    }
   ],
   "source": [
    "sns.stripplot(y='wheel_base',x='fuel_type_gas',data=df2)"
   ]
  },
  {
   "cell_type": "markdown",
   "id": "420faba9",
   "metadata": {},
   "source": [
    "The stripplot is used specify that wheel_base is on the y-axis and fuel-type is on the x-axis.\n",
    "In The above stripplot we can see observe that the gas(1) has the highest wheel_base with above 120 and the diesel(1) has the low wheel_base lies above 115 .\n",
    "gas(1) data mostly lies between 90 to 105 wheel_base."
   ]
  },
  {
   "cell_type": "code",
   "execution_count": 37,
   "id": "9e292f18",
   "metadata": {},
   "outputs": [
    {
     "data": {
      "text/plain": [
       "<Axes: xlabel='fuel_type_gas', ylabel='length'>"
      ]
     },
     "execution_count": 37,
     "metadata": {},
     "output_type": "execute_result"
    },
    {
     "data": {
      "image/png": "[encoded data removed]",
      "text/plain": [
       "<Figure size 640x480 with 1 Axes>"
      ]
     },
     "metadata": {},
     "output_type": "display_data"
    }
   ],
   "source": [
    "sns.violinplot(x=\"fuel_type_gas\", y=\"length\", data=df2, size=8)"
   ]
  },
  {
   "cell_type": "markdown",
   "id": "670297af",
   "metadata": {},
   "source": [
    "The violinplot is used specify that length is on the y-axis and fuel-type is on the x-axis.\n",
    "In The above stripplot we can see observe that the gas(1) has the highest length with 210 and the diesel(0) has the low length lies above 200 .\n",
    "gas(1) data mostly lies between 160 to 190 length."
   ]
  },
  {
   "cell_type": "code",
   "execution_count": null,
   "id": "2a0acede",
   "metadata": {},
   "outputs": [
    {
     "data": {
      "text/plain": [
       "<seaborn.axisgrid.PairGrid at 0x1754b8f90>"
      ]
     },
     "execution_count": 38,
     "metadata": {},
     "output_type": "execute_result"
    }
   ],
   "source": [
    "sns.pairplot(df2,diag_kind=\"kde\")"
   ]
  },
  {
   "cell_type": "code",
   "execution_count": null,
   "id": "74ab5249",
   "metadata": {},
   "outputs": [],
   "source": [
    "import plotly.express as pt\n",
    "SCD=pt.scatter_3d(x=df2['wheel_base'],y=df2['length'],z=df2['width'], title='3d scatter plot')\n",
    "SCD.show()"
   ]
  },
  {
   "cell_type": "code",
   "execution_count": null,
   "id": "e926f983",
   "metadata": {},
   "outputs": [],
   "source": [
    "SCD=pt.scatter_3d(x=df2['heights'],y=df2['curb_weight'],z=df2['engine_size'], title='3d scatter plot')\n",
    "SCD.show()"
   ]
  },
  {
   "cell_type": "code",
   "execution_count": null,
   "id": "670c99a5",
   "metadata": {},
   "outputs": [],
   "source": [
    "SCD=pt.scatter_3d(x=df2['bore'],y=df2['stroke'],z=df2['comprassion'], title='3d scatter plot')\n",
    "SCD.show()"
   ]
  },
  {
   "cell_type": "code",
   "execution_count": null,
   "id": "371226cc",
   "metadata": {},
   "outputs": [],
   "source": [
    "SCD=pt.scatter_3d(x=df2['horse_power'],y=df2['peak_rpm'],z=df2['city_mpg'], title='3d scatter plot')\n",
    "SCD.show()"
   ]
  },
  {
   "cell_type": "code",
   "execution_count": null,
   "id": "f4eb763f",
   "metadata": {},
   "outputs": [],
   "source": [
    "SCD=pt.scatter_3d(x=df2['highway_mpg'],y=df2['price'],z=df2['wheel_base'], title='3d scatter plot')\n",
    "SCD.show()"
   ]
  },
  {
   "cell_type": "code",
   "execution_count": null,
   "id": "a0efc8e0",
   "metadata": {},
   "outputs": [],
   "source": [
    "df2.corr(method=\"pearson\")\n"
   ]
  },
  {
   "cell_type": "code",
   "execution_count": null,
   "id": "654723bb",
   "metadata": {},
   "outputs": [],
   "source": [
    "correlation = df2.corr()\n",
    "sns.set(style='white') \n",
    "plt.figure(figsize=(10, 6))  \n",
    "sns.heatmap(correlation, annot=True, cmap='coolwarm', linewidths=0.5)\n",
    "plt.title('Pearson Correlation')\n",
    "plt.show()"
   ]
  },
  {
   "cell_type": "markdown",
   "id": "11f2bd1c",
   "metadata": {},
   "source": [
    "wheel_base and length,width,heights,curb_weight,engine_size,bore,stroke,comprassion,\n",
    "horse_power,price has positive Correlation.\n",
    "wheel_base and peak_rpm,city_mpg,highway_mpg has negative correlation.\n",
    "\n",
    "length and wheel_base,width,heights,curb_weight,engine_size,bore,stroke,comprassion,\n",
    "horse_power,price has positive Correlation.\n",
    "length and peak_rpm,city_mpg,highway_mpg has negative correlation.\n",
    "\n",
    "width and wheel_base,length,heights,curb_weight,engine_size,bore,stroke,comprassion,\n",
    "horse_power,price has positive Correlation.\n",
    "width and peak_rpm,city_mpg,highway_mpg has negative correlation.\n",
    "\n",
    "Height and stroke,peak_rpm,city_mpg,highway_mpg,horse_power has negative correlation.\n",
    "Height and length,width,heights,curb_weight,engine_size,bore,comprassion,price has positive Correlation.\n",
    "\n",
    "curb_weight and length,width,heights,wheel_base,engine_size,bore,stroke,comprassion,\n",
    "horse_power,price has positive Correlation.\n",
    "curb_weight and peak_rpm,city_mpg,highway_mpg has negative correlation.\n",
    "\n",
    "engine_size and length,width,heights,curb_weight,wheel_base,bore,stroke,comprassion,\n",
    "horse_power,price has positive Correlation.\n",
    "engine_size and peak_rpm,city_mpg,highway_mpg has negative correlation.\n",
    "\n",
    "bore and length,width,heights,curb_weight,wheel_base,engine_size,comprassion,\n",
    "horse_power,price has positive Correlation.\n",
    "bore and peak_rpm,city_mpg,highway_mpg,stroke has negative correlation.\n",
    "\n",
    "stroke and length,width,curb_weight,wheel_base,engine_size,comprassion,\n",
    "horse_power,price has positive Correlation.\n",
    "bore and peak_rpm,city_mpg,highway_mpg,bore,heights has negative correlation.\n",
    "\n",
    "comprassion and length,width,curb_weight,wheel_base,engine_size,stroke,city_mpg,\n",
    "highway_mpg,bore,heights,price has positive Correlation.\n",
    "bore and peak_rpm,horse_power has negative correlation.\n",
    "\n",
    "horse_power and length,width,curb_weight,wheel_base,engine_size,stroke,\n",
    ",bore,price has positive Correlation.\n",
    "horse_power and city_mpg,highway_mpg,comprassion,heights has negative correlation.\n",
    "\n",
    "peak_rpm and horse_power has positive Correlation.\n",
    "peak_rpm has negative Correlation with all columns expect horse_power.\n",
    "\n",
    "city_mpg and comprassion,highway_mpg has positive Correlation.\n",
    "city_mpg has negative Correlation with all columns expect comprassion,highway_mpg.\n",
    "\n",
    "highway_mpg and city_mpg has positive Correlation.\n",
    "highway_mpg has negative Correlation with all columns expect city_mpg.\n",
    "\n",
    "price and length,width,heights,curb_weight,engine_size,bore,stroke,comprassion,\n",
    "horse_power,wheel_base has positive Correlation.\n",
    "wheel_base and peak_rpm,city_mpg,highway_mpg has negative correlation.\n"
   ]
  },
  {
   "cell_type": "code",
   "execution_count": null,
   "id": "e9e0ec15",
   "metadata": {},
   "outputs": [],
   "source": [
    "plt.figure(figsize=(6, 6))\n",
    "sns.set(style=\"whitegrid\")\n",
    "columns_to_plot = ['wheel_base']\n",
    "sns.boxplot(data=df2[columns_to_plot],)\n",
    "plt.title('Box Plot with Outliers')\n",
    "plt.show()\n",
    "sns.boxplot(data=df2[columns_to_plot],showfliers=False)\n",
    "plt.title('Box Plot without Outliers')\n",
    "plt.show()"
   ]
  },
  {
   "cell_type": "markdown",
   "id": "29c0965d",
   "metadata": {},
   "source": [
    "By Box plot for wheel_base we can find the two outliers which differ from the majority of the data and has extreme values.\n",
    "The outliers will affect model accuracy and effect results, so removing outliers from the data."
   ]
  },
  {
   "cell_type": "code",
   "execution_count": null,
   "id": "af82deb4",
   "metadata": {},
   "outputs": [],
   "source": [
    "plt.figure(figsize=(6, 6))\n",
    "sns.set(style=\"whitegrid\")\n",
    "columns_to_plot = ['width']\n",
    "sns.boxplot(data=df2[columns_to_plot],)\n",
    "plt.title('Box Plot with Outliers')\n",
    "plt.show()\n",
    "sns.boxplot(data=df2[columns_to_plot],showfliers=False)\n",
    "plt.title('Box Plot without Outliers')\n",
    "plt.show()"
   ]
  },
  {
   "cell_type": "markdown",
   "id": "d81f03de",
   "metadata": {},
   "source": [
    "By Box plot for width we can find the three outliers which differ from the majority of the data and has extreme values.\n",
    "The outliers will affect model accuracy and effect results, so removing outliers from the data."
   ]
  },
  {
   "cell_type": "code",
   "execution_count": null,
   "id": "cab866f6",
   "metadata": {},
   "outputs": [],
   "source": [
    "plt.figure(figsize=(6, 6))\n",
    "sns.set(style=\"whitegrid\")\n",
    "columns_to_plot = ['city_mpg']\n",
    "sns.boxplot(data=df2[columns_to_plot],)\n",
    "plt.title('Box Plot with Outliers')\n",
    "plt.show()\n",
    "sns.boxplot(data=df2[columns_to_plot],showfliers=False)\n",
    "plt.title('Box Plot without Outliers')\n",
    "plt.show()"
   ]
  },
  {
   "cell_type": "markdown",
   "id": "13e3cdb4",
   "metadata": {},
   "source": [
    "By Box plot for city_mpg  we can find the two outliers which differ from the majority of the data and has extreme values.\n",
    "The outliers will affect model accuracy and effect results, so removing outliers from the data."
   ]
  },
  {
   "cell_type": "code",
   "execution_count": null,
   "id": "ec3c146b",
   "metadata": {},
   "outputs": [],
   "source": [
    "plt.figure(figsize=(6, 6))\n",
    "sns.set(style=\"whitegrid\")\n",
    "columns_to_plot = ['highway_mpg']\n",
    "sns.boxplot(data=df2[columns_to_plot],)\n",
    "plt.title('Box Plot with Outliers')\n",
    "plt.show()\n",
    "sns.boxplot(data=df2[columns_to_plot],showfliers=False)\n",
    "plt.title('Box Plot without Outliers')\n",
    "plt.show()"
   ]
  },
  {
   "cell_type": "markdown",
   "id": "3be45b9d",
   "metadata": {},
   "source": [
    "By Box plot for highway_mpg  we can find the two outliers which differ from the majority of the data and has extreme values.\n",
    "The outliers will affect model accuracy and effect results, so removing outliers from the data."
   ]
  },
  {
   "cell_type": "code",
   "execution_count": null,
   "id": "41dd2dd3",
   "metadata": {},
   "outputs": [],
   "source": [
    "plt.figure(figsize=(6, 6))\n",
    "sns.set(style=\"whitegrid\")\n",
    "columns_to_plot = ['engine_size']\n",
    "sns.boxplot(data=df2[columns_to_plot],)\n",
    "plt.title('Box Plot with Outliers')\n",
    "plt.show()\n",
    "sns.boxplot(data=df2[columns_to_plot],showfliers=False)\n",
    "plt.title('Box Plot without Outliers')\n",
    "plt.show()"
   ]
  },
  {
   "cell_type": "markdown",
   "id": "e32a2916",
   "metadata": {},
   "source": [
    "By Box plot for engine_size we can find the five outliers which differ from the majority of the data and has extreme values.\n",
    "The outliers will affect model accuracy and effect results, so removing outliers from the data."
   ]
  },
  {
   "cell_type": "code",
   "execution_count": null,
   "id": "742ba70d",
   "metadata": {},
   "outputs": [],
   "source": [
    "plt.figure(figsize=(6, 6))\n",
    "sns.set(style=\"whitegrid\")\n",
    "columns_to_plot = ['horse_power']\n",
    "sns.boxplot(data=df2[columns_to_plot],)\n",
    "plt.title('Box Plot with Outliers')\n",
    "plt.show()\n",
    "sns.boxplot(data=df2[columns_to_plot],showfliers=False)\n",
    "plt.title('Box Plot without Outliers')\n",
    "plt.show()\n"
   ]
  },
  {
   "cell_type": "markdown",
   "id": "db7a70a7",
   "metadata": {},
   "source": [
    "By Box plot for horse_power we can find the three outliers which differ from the majority of the data and has extreme values.\n",
    "The outliers will affect model accuracy and effect results, so removing outliers from the data."
   ]
  },
  {
   "cell_type": "code",
   "execution_count": null,
   "id": "2e91410a",
   "metadata": {},
   "outputs": [],
   "source": [
    "plt.figure(figsize=(6, 6))\n",
    "sns.set(style=\"whitegrid\")\n",
    "columns_to_plot = ['stroke']\n",
    "sns.boxplot(data=df2[columns_to_plot],)\n",
    "plt.title('Box Plot with Outliers')\n",
    "plt.show()\n",
    "sns.boxplot(data=df2[columns_to_plot],showfliers=False)\n",
    "plt.title('Box Plot without Outliers')\n",
    "plt.show()"
   ]
  },
  {
   "cell_type": "markdown",
   "id": "c1a378f5",
   "metadata": {},
   "source": [
    "By Box plot for stroke we can find the six outliers which differ from the majority of the data and has 4 extreme values and 2 low values.\n",
    "The outliers will affect model accuracy and effect results, so removing outliers from the data."
   ]
  },
  {
   "cell_type": "code",
   "execution_count": null,
   "id": "fea59d21",
   "metadata": {},
   "outputs": [],
   "source": [
    "plt.figure(figsize=(6, 6))\n",
    "sns.set(style=\"whitegrid\")\n",
    "columns_to_plot = ['comprassion']\n",
    "sns.boxplot(data=df2[columns_to_plot],)\n",
    "plt.title('Box Plot with Outliers')\n",
    "plt.show()\n",
    "sns.boxplot(data=df2[columns_to_plot],showfliers=False)\n",
    "plt.title('Box Plot without Outliers')\n",
    "plt.show()"
   ]
  },
  {
   "cell_type": "markdown",
   "id": "06bff1b7",
   "metadata": {},
   "source": [
    "By Box plot for comprassion we can find the nine outliers which differ from the majority of the data and 8 are extreme values and one is low values.\n",
    "The outliers will affect model accuracy and effect results, so removing outliers from the data."
   ]
  },
  {
   "cell_type": "code",
   "execution_count": null,
   "id": "4eb067b5",
   "metadata": {},
   "outputs": [],
   "source": [
    "plt.figure(figsize=(6, 6))\n",
    "sns.set(style=\"whitegrid\")\n",
    "columns_to_plot = ['peak_rpm']\n",
    "sns.boxplot(data=df2[columns_to_plot],)\n",
    "plt.title('Box Plot with Outliers')\n",
    "plt.show()\n",
    "sns.boxplot(data=df2[columns_to_plot],showfliers=False)\n",
    "plt.title('Box Plot without Outliers')\n",
    "plt.show()"
   ]
  },
  {
   "cell_type": "markdown",
   "id": "74821183",
   "metadata": {},
   "source": [
    "By Box plot for peak_rpm we can find the one outliers which differ from the majority of the data and extreme value.\n",
    "The outliers will affect model accuracy and effect results, so removing outliers from the data."
   ]
  },
  {
   "cell_type": "code",
   "execution_count": null,
   "id": "4dde8bab",
   "metadata": {},
   "outputs": [],
   "source": [
    "plt.figure(figsize=(6, 6))\n",
    "sns.set(style=\"whitegrid\")\n",
    "columns_to_plot = ['price']\n",
    "sns.boxplot(data=df2[columns_to_plot],)\n",
    "plt.title('Box Plot with Outliers')\n",
    "plt.show()\n",
    "sns.boxplot(data=df2[columns_to_plot],showfliers=False)\n",
    "plt.title('Box Plot without Outliers')\n",
    "plt.show()"
   ]
  },
  {
   "cell_type": "markdown",
   "id": "b0554b0d",
   "metadata": {},
   "source": [
    "By Box plot for price we can find the 12 outliers which differ from the majority of the data and extreme values.\n",
    "The outliers will affect model accuracy and effect results, so removing outliers from the data."
   ]
  },
  {
   "cell_type": "code",
   "execution_count": null,
   "id": "990f6329",
   "metadata": {},
   "outputs": [],
   "source": [
    "plt.figure(figsize=(6, 6))\n",
    "sns.set(style=\"whitegrid\")\n",
    "columns_to_plot = ['heights']\n",
    "sns.boxplot(data=df2[columns_to_plot],)\n",
    "plt.title('Box Plot with Outliers')\n",
    "plt.show()\n"
   ]
  },
  {
   "cell_type": "markdown",
   "id": "60e2528b",
   "metadata": {},
   "source": [
    "By Box plot for heights we can find there no outliers in the data.\n",
    "The heights data is good for data analyzing.\n"
   ]
  },
  {
   "cell_type": "code",
   "execution_count": null,
   "id": "619aeded",
   "metadata": {},
   "outputs": [],
   "source": [
    "plt.figure(figsize=(6, 6))\n",
    "sns.set(style=\"whitegrid\")\n",
    "columns_to_plot = ['curb_weight']\n",
    "sns.boxplot(data=df2[columns_to_plot],)\n",
    "plt.title('Box Plot with Outliers')\n",
    "plt.show()"
   ]
  },
  {
   "cell_type": "markdown",
   "id": "9862eed4",
   "metadata": {},
   "source": [
    "By Box plot for curb_weight we can find there no outliers in the data.\n",
    "The curb_weight data is good for data analyzing."
   ]
  },
  {
   "cell_type": "code",
   "execution_count": null,
   "id": "7f71b385",
   "metadata": {},
   "outputs": [],
   "source": [
    "plt.figure(figsize=(6, 6))\n",
    "sns.set(style=\"whitegrid\")\n",
    "columns_to_plot = ['bore']\n",
    "sns.boxplot(data=df2[columns_to_plot],)\n",
    "plt.title('Box Plot with Outliers')\n",
    "plt.show()"
   ]
  },
  {
   "cell_type": "markdown",
   "id": "c9a31468",
   "metadata": {},
   "source": [
    "By Box plot for bore we can find there no outliers in the data.\n",
    "The bore data is good for data analyzing."
   ]
  },
  {
   "cell_type": "markdown",
   "id": "77fabed2",
   "metadata": {},
   "source": [
    "## 3. Multiple Regression Analysis ! Use the df2 dataset!"
   ]
  },
  {
   "cell_type": "markdown",
   "id": "f56943b0",
   "metadata": {},
   "source": [
    "**1. Create a model that uses all the variables** and call it model1. The dependent variable is price, the independent variables are all the rest. Print out a summary of the model (coefficents, stanrard errors, confidence intervals and other metrics shown in class and answer the quesions based on your output."
   ]
  },
  {
   "cell_type": "code",
   "execution_count": null,
   "id": "1f1ba684",
   "metadata": {},
   "outputs": [],
   "source": [
    "import statsmodels.api as sm\n",
    "y=df2['price']\n",
    "X=df2.drop(['price'], axis=1)\n",
    "x=sm.add_constant (X) \n",
    "model1=sm.OLS(y,x).fit()\n",
    "print(model1.summary())\n"
   ]
  },
  {
   "cell_type": "markdown",
   "id": "e0f4ad5e",
   "metadata": {},
   "source": [
    "1. How do you interpret the intercept?\n",
    "2. How many variables are statistically significant?\n",
    "3. What is the variance of the model?\n",
    "4. What is the coefficeint of determination and how do you interpret it?\n",
    "5. What is the F-statistics used for? How do you interpret it for this model?"
   ]
  },
  {
   "cell_type": "markdown",
   "id": "1afbb726",
   "metadata": {},
   "source": [
    "1-The intercept in the regression model signifies the estimated dependent variable (price) when all independent variables are at zero. However, in the data, variables like engine size, height, and width are never zero. In our model, the intercept is -6.207e+04\n",
    "\n",
    "2-P>|t|\" (p-value) column p-values below a significance level is considerd as 0.05 are considered statistically significant are width,heights,engine size,stroke,comprassion,horse_power,peak_rpm.\n",
    "\n",
    "3-Model variance assesses the disparity between actual values and predicted values of the dependent variable (price). The model's R-squared value, such as 0.857, the proportion of price variance elucidated by independent variables. An R-squared of 0.857 implies that roughly 85.7% of the price variability is accounted for by the model.\n",
    "\n",
    "4- determination:The coefficient of determination, often called the R-squared, is a measure of how well the independent variables explain the variation in the dependent variable. In this model, R squared is 0.857. This means that about 85.7% of the variation in car prices is explained by the independent variables in the model. A higher R-squared indicates a better fit of the model to the data. However, keep in mind that a high R-squared does not necessarily mean that the model's predictions are always accuratecoefficeint of.\n",
    "\n",
    "5-The coefficient of determination, R-squared, quantifies the extent to which independent variables clarify the variance in the dependent variable. Here, R-squared is 0.857, signifying that approximately 85.7% of car price variation is accounted for. A higher R-squared implies a superior model fit, but it doesn't guarantee perfect predictions.\n"
   ]
  },
  {
   "cell_type": "markdown",
   "id": "2f6bde01",
   "metadata": {},
   "source": [
    "**2. Drop all the variables that are not statistically significant** at least at 90% confidence level. Run another regression model with price as the dependent variable and the rest of the variables as the independent variabls. Call it model2. Print a summary of the results and answer the questions bellow. "
   ]
  },
  {
   "cell_type": "code",
   "execution_count": 67,
   "id": "2b75cc92",
   "metadata": {},
   "outputs": [
    {
     "name": "stdout",
     "output_type": "stream",
     "text": [
      "                            OLS Regression Results                            \n",
      "==============================================================================\n",
      "Dep. Variable:                  price   R-squared:                       0.854\n",
      "Model:                            OLS   Adj. R-squared:                  0.848\n",
      "Method:                 Least Squares   F-statistic:                     136.5\n",
      "Date:                Sun, 22 Oct 2023   Prob (F-statistic):           1.29e-73\n",
      "Time:                        21:52:47   Log-Likelihood:                -1842.2\n",
      "No. Observations:                 195   AIC:                             3702.\n",
      "Df Residuals:                     186   BIC:                             3732.\n",
      "Df Model:                           8                                         \n",
      "Covariance Type:            nonrobust                                         \n",
      "=================================================================================\n",
      "                    coef    std err          t      P>|t|      [0.025      0.975]\n",
      "---------------------------------------------------------------------------------\n",
      "const         -6.156e+04   1.49e+04     -4.138      0.000   -9.09e+04   -3.22e+04\n",
      "engine_size     131.2899     13.724      9.566      0.000     104.215     158.365\n",
      "fuel_type_gas -3384.0156    998.300     -3.390      0.001   -5353.463   -1414.568\n",
      "heights         289.5923    113.100      2.561      0.011      66.470     512.715\n",
      "highway_mpg      39.9588     69.437      0.575      0.566     -97.027     176.944\n",
      "horse_power      43.1639     15.720      2.746      0.007      12.152      74.176\n",
      "peak_rpm          2.3532      0.639      3.683      0.000       1.093       3.614\n",
      "stroke        -2942.0083    775.472     -3.794      0.000   -4471.859   -1412.158\n",
      "width           566.4440    196.395      2.884      0.004     178.995     953.893\n",
      "==============================================================================\n",
      "Omnibus:                       18.233   Durbin-Watson:                   0.944\n",
      "Prob(Omnibus):                  0.000   Jarque-Bera (JB):               61.116\n",
      "Skew:                           0.177   Prob(JB):                     5.36e-14\n",
      "Kurtosis:                       5.720   Cond. No.                     3.39e+05\n",
      "==============================================================================\n",
      "\n",
      "Notes:\n",
      "[1] Standard Errors assume that the covariance matrix of the errors is correctly specified.\n",
      "[2] The condition number is large, 3.39e+05. This might indicate that there are\n",
      "strong multicollinearity or other numerical problems.\n"
     ]
    }
   ],
   "source": [
    "dependent_variable = 'price'\n",
    "independent_variables = df2.columns.difference([dependent_variable])\n",
    "\n",
    "X = df2[independent_variables]\n",
    "X = sm.add_constant(X)  \n",
    "y = df2[dependent_variable]\n",
    "\n",
    "model1 = sm.OLS(y, X).fit()\n",
    "\n",
    "significant_variables = model1.pvalues[model1.pvalues < 0.10].index\n",
    "X = X[significant_variables]\n",
    "model2 = sm.OLS(y, X).fit()\n",
    "\n",
    "print(model2.summary())\n"
   ]
  },
  {
   "cell_type": "markdown",
   "id": "226123c0",
   "metadata": {},
   "source": [
    "1. How do you interpret the intercept?\n",
    "2. How many variables are statistically significant?\n",
    "3. What is the variance of the model?\n",
    "4. What is the coefficeint of determination and how do you interpret it? What is the Adjusted R-squared and compare it to the model1's value. \n",
    "5. What is the F-statistics used for? How do you interpret it for this model?"
   ]
  },
  {
   "cell_type": "markdown",
   "id": "3c9e2633",
   "metadata": {},
   "source": [
    "1-The intercept (const) signifies the estimated price when all independent variables are at zero. However, in this context, it implies an unrealistic scenario where multiple variables are set to zero, leading to a negative estimated price of around -$64,000, which may not align with the dataset's context.\n",
    "2- A variable is seen as important in the analysis when its p-value is significance level is considerd as 0.05 the values below 0.05. In your findings, all independent variables, except \"altitude,\" are important because their p-values are less than 0.05.\n",
    "3-With an R-squared of 0.853, approximately 85.3% of price variation is accounted for by the model's independent variables, indicating its effectiveness in explaining price fluctuations. However, R-squared doesn't assess prediction quality or potential overfitting, leaving those aspects unaddressed.\n",
    "4-The adjusted R-squared (0.847) is a variant of R-squared, accounting for model complexity by considering independent variables. It discourages overfitting by variables. Its slight reduction compared to R-squared, common with numerous variables, offers a more cautious assessment of the model's data fit.\n",
    "5-The F-statistic tests the model's overall significance. With an F-statistic of 154.5 and a low p-value (3.25e-74), the model is highly significant. This implies that at least one independent variable significantly influences the dependent variable. The high R-squared and low p-value indicate a strong fit, but model appropriateness depends on specific research context and regression assumptions."
   ]
  },
  {
   "cell_type": "markdown",
   "id": "994a73f8",
   "metadata": {},
   "source": [
    "**3. Compare the two models with ANOVA**. What are your null and alternative hypothesis? What is your conclusion?"
   ]
  },
  {
   "cell_type": "code",
   "execution_count": 68,
   "id": "89ff4f32",
   "metadata": {},
   "outputs": [
    {
     "name": "stdout",
     "output_type": "stream",
     "text": [
      "   df_resid           ssr  df_diff       ss_diff        F  Pr(>F)\n",
      "0     180.0  1.764456e+09      0.0           NaN      NaN     NaN\n",
      "1     186.0  1.832575e+09     -6.0 -6.811918e+07  1.15231     NaN\n"
     ]
    }
   ],
   "source": [
    "from statsmodels.stats.anova import anova_lm\n",
    "anova_results = anova_lm(model1, model2)\n",
    "print(anova_results)"
   ]
  },
  {
   "cell_type": "markdown",
   "id": "4c5b4e4c",
   "metadata": {},
   "source": [
    "1-Null hypothesis (H0): Model 1 is as effective as, or superior to, Model 2 in elucidating the variability of the dependent variable.\n",
    "2-Alternative Hypothesis (Ha): Model 2 exhibits a  significant enhancement in explaining the variance of the dependent variable in comparison to Model 1 (the reduced model).\n",
    "To assess the hypothesis, individuals often scrutinize the p-value (Pr(>F)) associated with the F statistic presented in the ANOVA table. If the p-value falls below the predetermined significance level, typically set at 0.05, the null hypothesis is discarded. In simpler terms, if Pr(>F) is less than 0.05, this leads to the conclusion that a substantial distinction exists between the two models, affirming that the full model (model 1) offers a more accurate fit. so,since an exact p-value for your ANOVA outcome has not been provided, it is essential to compare it with our chosen significance level to make a conclusive determination."
   ]
  },
  {
   "cell_type": "markdown",
   "id": "65dbf4e5",
   "metadata": {},
   "source": [
    "**4.Checking the assumptions:**\n",
    "\n",
    "-What are the assumptions?\n",
    "\n",
    "-Do they hold?"
   ]
  },
  {
   "cell_type": "markdown",
   "id": "b3b9b04f",
   "metadata": {},
   "source": [
    "1. Linearity of Relationships:\n",
    "   Assumption: The relationship between independent and dependent variables is linear.\n",
    "   hold: This holds true if scatterplots show nearly linear trends for each independent variable.\n",
    "\n",
    "2. Independence of Residuals:\n",
    "   Assumption: Residuals (observed - predicted values) are independent.\n",
    "   hold : Assessing residual independence is essential, although not explicitly tested.\n",
    "\n",
    "3. Homoscedasticity:\n",
    "   Assumption: Residual variance is constant across independent variable levels.\n",
    "   hold: This is met if residuals vs. predicted values exhibit a relatively uniform spread.\n",
    "\n",
    "4. Normality of Residuals:\n",
    "  Assumption: Residuals follow a normal distribution.\n",
    "   hold : For large samples, deviations from normality are tolerable. Check normality using histograms or Q-Q plots.\n",
    "\n",
    "5. Multicollinearity:\n",
    "   Assumption: Independent variables are not highly correlated.\n",
    "   hold: Evaluate using correlation coefficients or variance inflation factors (VIF).\n",
    "\n",
    "6. Exogeneity:\n",
    "    Assumption: Independent variables are uncorrelated with residuals.\n",
    "    hold: Address violations by including relevant variables in the model as needed."
   ]
  },
  {
   "cell_type": "markdown",
   "id": "6a1fa97f",
   "metadata": {},
   "source": [
    "**5. Is there Multicollinearity in your data?**"
   ]
  },
  {
   "cell_type": "code",
   "execution_count": 99,
   "id": "2df0526c",
   "metadata": {},
   "outputs": [
    {
     "name": "stdout",
     "output_type": "stream",
     "text": [
      "         Variable          VIF\n",
      "0      wheel_base  2071.483050\n",
      "1          length  2019.931702\n",
      "2           width  3017.390516\n",
      "3         heights  1019.553923\n",
      "4     curb_weight   408.567248\n",
      "5     engine_size    90.136515\n",
      "6            bore   286.603183\n",
      "7          stroke   141.468684\n",
      "8     comprassion   383.878658\n",
      "9     horse_power    77.632797\n",
      "10       peak_rpm   261.664640\n",
      "11       city_mpg   444.985044\n",
      "12    highway_mpg   527.362453\n",
      "13  fuel_type_gas   489.701748\n"
     ]
    }
   ],
   "source": [
    "##your code goes here\n",
    "from statsmodels.stats.outliers_influence import variance_inflation_factor\n",
    "\n",
    "X = df2.drop(columns=['price'])\n",
    "vif = pd.DataFrame()\n",
    "vif[\"Variable\"] = X.columns\n",
    "vif[\"VIF\"] = [variance_inflation_factor(X.values, i) for i in range(X.shape[1])]\n",
    "print(vif)"
   ]
  },
  {
   "cell_type": "markdown",
   "id": "c36c9918",
   "metadata": {},
   "source": [
    "The VIF analysis reveals that \"width,\" \"height,\" \"stroke,\" \"horse_power,\" and \"peak_rpm\" exhibit high VIF values, well beyond 10. \"engine_size\" demonstrates moderate multicollinearity with a VIF of approximately 65. In contrast, \"compression\" has a relatively lower VIF of around 10, indicating less multicollinearity in this variable.\n",
    "\n",
    "The Variance Inflation Factor (VIF) is a metric for assessing multicollinearity among independent variables in a regression model. Multicollinearity arises when these variables are highly correlated, hindering the isolation of their individual impact on the dependent variable. VIF values exceeding 10 typically signal troublesome multicollinearity."
   ]
  }
 ],
 "metadata": {
  "kernelspec": {
   "display_name": "Python 3 (ipykernel)",
   "language": "python",
   "name": "python3"
  },
  "language_info": {
   "codemirror_mode": {
    "name": "ipython",
    "version": 3
   },
   "file_extension": ".py",
   "mimetype": "text/x-python",
   "name": "python",
   "nbconvert_exporter": "python",
   "pygments_lexer": "ipython3",
   "version": "3.11.4"
  }
 },
 "nbformat": 4,
 "nbformat_minor": 5
}
